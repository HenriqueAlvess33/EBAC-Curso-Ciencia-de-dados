{
 "cells": [
  {
   "cell_type": "markdown",
   "metadata": {},
   "source": [
    "# Módulo 5 Tarefa 1\n",
    "## Base de nascidos vivos do DataSUS\n",
    "O DataSUS disponibiliza diversos arquivos de dados com relação a seus segurados, conforme a [lei da transparência de informações públicas](https://www.sisgov.com/transparencia-acesso-informacao/#:~:text=A%20Lei%20da%20Transpar%C3%AAncia%20(LC,em%20um%20site%20na%20internet.). \n",
    "\n",
    "Essas informações podem ser obtidas pela internet [aqui](http://www2.datasus.gov.br/DATASUS/index.php?area=0901&item=1). Como o processo de obtenção desses arquivos foge um pouco do nosso escopo, deixamos o arquivo SINASC_RO_2019.csv` já como vai ser encontrado no DataSUS. O dicionário de dados está no arquivo `estrutura_sinasc_para_CD.pdf` (o nome do arquivo tal qual no portal do DataSUS).\n",
    "\n",
    "### Nosso objetivo\n",
    "Queremos deixar uma base organizada para podermos estudar a relação entre partos com risco para o bebê e algumas condições como tempo de parto, consultas de pré-natal etc.\n",
    "\n",
    "#### Preparação da base\n",
    "1. Carregue a base 'SINASC_RO_2019.csv'. Conte o número de registros e o número de registros não duplicados da base. Dica: você aprendeu um método que remove duplicados, encadeie este método com um outro método que conta o número de linhas. **Há linhas duplicadas?**  \n",
    "\n",
    "2. Conte o número de valores *missing* por variável.  \n",
    "\n",
    "3. Ok, no item anterior você deve ter achado pouco prático ler a informação de tantas variáveis, muitas delas nem devem ser interesantes. Então crie uma seleção dessa base somente com as colunas que interessam. São elas:\n",
    "` \n",
    "['LOCNASC', 'IDADEMAE', 'ESTCIVMAE', 'ESCMAE', 'QTDFILVIVO', \n",
    "    'GESTACAO', 'GRAVIDEZ', 'CONSULTAS', 'APGAR5'] \n",
    "`\n",
    "Refaça a contagem de valores *missings*.  \n",
    "\n",
    "4. Apgar é uma *nota* que o pediatra dá ao bebê quando nasce de acordo com algumas características associadas principalmente à respiração. Apgar 1 e Apgar 5 são as notas 1 e 5 minutos do nascimento. Apgar5 será a nossa variável de interesse principal. Então remova todos os registros com Apgar5 não preenchido. Para esta seleção, conte novamente o número de linhas e o número de *missings*.  \n",
    "\n",
    "5. observe que as variáveis `['ESTCIVMAE', 'CONSULTAS']` possuem o código `9`, que significa *ignorado*. Vamos assumir que o não preenchido é o mesmo que o código `9`.<br>\n",
    "6. Substitua os valores faltantes da quantitativa (`QTDFILVIVO`) por zero.  \n",
    "7. Das restantes, decida que valore te parece mais adequado (um 'não preenchido' ou um valor 'mais provável' como no item anterior) e preencha. Justifique. Lembre-se de que tratamento de dados é trabalho do cientista, e que estamos tomando decisões a todo o momento - não há necessariamente certo e errado aqui.  \n",
    "8. O Apgar possui uma classificação indicando se o bebê passou por asfixia:\n",
    "- Entre 8 e 10 está em uma faixa 'normal'. \n",
    "- Entre 6 e 7, significa que o recém-nascido passou por 'asfixia leve'. \n",
    "- Entre 4 e 5 significa 'asfixia moderada'.\n",
    "- Entre 0 e 3 significa 'asfixia severa'.  \n",
    "\n",
    "Crie uma categorização dessa variável com essa codificação e calcule as frequências dessa categorização.  \n",
    "<br>\n",
    "9. Renomeie as variáveis para que fiquem no *snake case*, ou seja, em letras minúsculas, com um *underscore* entre as palávras. Dica: repare que se você não quiser criar um *dataframe* novo, você vai precisar usar a opção `inplace = True`."
   ]
  },
  {
   "cell_type": "markdown",
   "metadata": {},
   "source": [
    "1. Carregue a base 'SINASC_RO_2019.csv'. Conte o número de registros e o número de registros não duplicados da base. Dica: você aprendeu um método que remove duplicados, encadeie este método com um outro método que conta o número de linhas. **Há linhas duplicadas?** "
   ]
  },
  {
   "cell_type": "code",
   "execution_count": 87,
   "metadata": {},
   "outputs": [
    {
     "name": "stdout",
     "output_type": "stream",
     "text": [
      "(27028, 69)\n"
     ]
    },
    {
     "data": {
      "text/plain": [
       "(27028, 69)"
      ]
     },
     "execution_count": 87,
     "metadata": {},
     "output_type": "execute_result"
    }
   ],
   "source": [
    "import pandas as pd\n",
    "import requests\n",
    "\n",
    "# 1) seu código aqui\n",
    "df = pd.read_csv('./output/SINASC_RO_2019.csv', keep_default_na=True)\n",
    "print(df.shape)\n",
    "df.drop_duplicates().shape\n",
    "# Não há duplicados"
   ]
  },
  {
   "cell_type": "code",
   "execution_count": null,
   "metadata": {},
   "outputs": [],
   "source": [
    "df['QTDFILMORT'].isna().value_counts()"
   ]
  },
  {
   "cell_type": "code",
   "execution_count": null,
   "metadata": {},
   "outputs": [],
   "source": [
    "df.columns"
   ]
  },
  {
   "cell_type": "markdown",
   "metadata": {},
   "source": [
    "2. Conte o número de valores *missing* por variável."
   ]
  },
  {
   "cell_type": "code",
   "execution_count": 51,
   "metadata": {},
   "outputs": [],
   "source": [
    "# 2) seu código aqui\n",
    "class missing_information:\n",
    "    def count_missing(coluna_verificada, dataframe):\n",
    "        if isinstance(coluna_verificada, list):\n",
    "       \n",
    "            _dicionario0 = dict()\n",
    "            for coluna in coluna_verificada:\n",
    "                _dicionario = dict()\n",
    "                verificacao = dataframe[coluna].isna().value_counts()\n",
    "                verdadeiro = verificacao.get(True, 0)\n",
    "                falso = verificacao.get(False, 0) \n",
    "                _dicionario['Dados Faltantes'] = verdadeiro\n",
    "                _dicionario['Dados completos'] = falso\n",
    "                _dicionario0[coluna]  = _dicionario\n",
    "        \n",
    "            return print(_dicionario0)\n",
    "        \n",
    "        else:   \n",
    "            verificacao = dataframe[coluna_verificada].isna().value_counts()\n",
    "            verdadeiro = verificacao.get(True, 0)\n",
    "            falso = verificacao.get(False, 0) \n",
    "            conclusao = f\"A relação de dados faltantes para esta coluna é de {verdadeiro}, comparados com {falso} dados presentes.\"\n",
    "            return conclusao\n",
    "        \n",
    "    def return_true(coluna_verificada, dataframe):  \n",
    "        if isinstance(coluna_verificada, list):\n",
    "            soma = 0\n",
    "            _dicionario0 = dict()\n",
    "            for coluna in coluna_verificada:\n",
    "                verificacao = dataframe[coluna].isna().value_counts()\n",
    "                verdadeiro = verificacao.get(True, 0)\n",
    "                soma += verdadeiro \n",
    "            return soma\n",
    "        \n",
    "        else:   \n",
    "            verificacao = dataframe[coluna_verificada].isna().value_counts()\n",
    "            verdadeiro = verificacao.get(True, 0) \n",
    "            return verdadeiro\n",
    "        \n",
    "        \n",
    "    def count_lines_with_missing_data(coluna_verificada, dataframe):\n",
    "        dataframe_transposto = dataframe.T\n",
    "        missing_data_lines = 0\n",
    "        \n",
    "        for linha in dataframe_transposto.columns:\n",
    "            verificacao = dataframe_transposto[linha].isna().value_counts()\n",
    "            if verificacao.get(True, 0) >= 1:\n",
    "                missing_data_lines += 1\n",
    "        return missing_data_lines\n",
    "    \n",
    "    def avaliação_de_proporcao(coluna_verificada, dataframe):\n",
    "        if isinstance (coluna_verificada, list):\n",
    "            resultado = {}\n",
    "            \n",
    "            for coluna in coluna_verificada:\n",
    "                proporcoes_de_coluna = {}\n",
    "                _lista_de_valores = dataframe[coluna].unique().tolist()\n",
    "                valores_contados = dataframe[coluna].value_counts()\n",
    "                for valor in _lista_de_valores:\n",
    "                    if pd.isna(valor):\n",
    "                        continue\n",
    "                    proporcao_do_item = round((valores_contados.get(valor, 0) / dataframe.shape[0]) *100 , 2) \n",
    "                    proporcoes_de_coluna[str(valor)] = proporcao_do_item\n",
    "                resultado[coluna] = proporcoes_de_coluna\n",
    "                   \n",
    "            return resultado\n",
    "                \n",
    "        else:\n",
    "            proporcoes_de_coluna = {}\n",
    "            _lista_de_valores = dataframe[coluna_verificada].unique().tolist()\n",
    "            valores_contados = dataframe[coluna_verificada].value_counts()\n",
    "            for valor in _lista_de_valores:\n",
    "                if pd.isna(valor):\n",
    "                    continue\n",
    "                proporcao_do_item = round((valores_contados.get(valor, 0) / dataframe.shape[0])* 100, 2)\n",
    "                proporcoes_de_coluna[str(valor)] = proporcao_do_item\n",
    "                \n",
    "            return proporcoes_de_coluna\n"
   ]
  },
  {
   "cell_type": "code",
   "execution_count": 93,
   "metadata": {},
   "outputs": [],
   "source": [
    "av = missing_information"
   ]
  },
  {
   "cell_type": "code",
   "execution_count": 57,
   "metadata": {},
   "outputs": [],
   "source": [
    "lista_de_variaveis = ['ORIGEM', 'CODESTAB', 'CODMUNNASC', 'LOCNASC', 'IDADEMAE', 'ESTCIVMAE',\n",
    "       'ESCMAE', 'CODOCUPMAE', 'QTDFILVIVO', 'QTDFILMORT', 'CODMUNRES',\n",
    "       'GESTACAO', 'GRAVIDEZ', 'PARTO', 'CONSULTAS', 'DTNASC', 'HORANASC',\n",
    "       'SEXO', 'APGAR1', 'APGAR5', 'RACACOR', 'PESO', 'IDANOMAL', 'DTCADASTRO',\n",
    "       'CODANOMAL', 'NUMEROLOTE', 'VERSAOSIST', 'DTRECEBIM', 'DIFDATA',\n",
    "       'DTRECORIGA', 'NATURALMAE', 'CODMUNNATU', 'CODUFNATU', 'ESCMAE2010',\n",
    "       'SERIESCMAE', 'DTNASCMAE', 'RACACORMAE', 'QTDGESTANT', 'QTDPARTNOR',\n",
    "       'QTDPARTCES', 'IDADEPAI', 'DTULTMENST', 'SEMAGESTAC', 'TPMETESTIM',\n",
    "       'CONSPRENAT', 'MESPRENAT', 'TPAPRESENT', 'STTRABPART', 'STCESPARTO',\n",
    "       'TPNASCASSI', 'TPFUNCRESP', 'TPDOCRESP', 'DTDECLARAC', 'ESCMAEAGR1',\n",
    "       'STDNEPIDEM', 'STDNNOVA', 'CODPAISRES', 'TPROBSON', 'PARIDADE',\n",
    "       'KOTELCHUCK', 'CONTADOR', 'munResStatus', 'munResTipo', 'munResNome',\n",
    "       'munResUf', 'munResLat', 'munResLon', 'munResAlt', 'munResArea']"
   ]
  },
  {
   "cell_type": "code",
   "execution_count": 94,
   "metadata": {},
   "outputs": [
    {
     "name": "stdout",
     "output_type": "stream",
     "text": [
      "{'ORIGEM': {'Dados Faltantes': 0, 'Dados completos': 27028}, 'CODESTAB': {'Dados Faltantes': 115, 'Dados completos': 26913}, 'CODMUNNASC': {'Dados Faltantes': 0, 'Dados completos': 27028}, 'LOCNASC': {'Dados Faltantes': 0, 'Dados completos': 27028}, 'IDADEMAE': {'Dados Faltantes': 0, 'Dados completos': 27028}, 'ESTCIVMAE': {'Dados Faltantes': 317, 'Dados completos': 26711}, 'ESCMAE': {'Dados Faltantes': 312, 'Dados completos': 26716}, 'CODOCUPMAE': {'Dados Faltantes': 2907, 'Dados completos': 24121}, 'QTDFILVIVO': {'Dados Faltantes': 1573, 'Dados completos': 25455}, 'QTDFILMORT': {'Dados Faltantes': 2098, 'Dados completos': 24930}, 'CODMUNRES': {'Dados Faltantes': 0, 'Dados completos': 27028}, 'GESTACAO': {'Dados Faltantes': 1232, 'Dados completos': 25796}, 'GRAVIDEZ': {'Dados Faltantes': 79, 'Dados completos': 26949}, 'PARTO': {'Dados Faltantes': 49, 'Dados completos': 26979}, 'CONSULTAS': {'Dados Faltantes': 0, 'Dados completos': 27028}, 'DTNASC': {'Dados Faltantes': 0, 'Dados completos': 27028}, 'HORANASC': {'Dados Faltantes': 21, 'Dados completos': 27007}, 'SEXO': {'Dados Faltantes': 4, 'Dados completos': 27024}, 'APGAR1': {'Dados Faltantes': 96, 'Dados completos': 26932}, 'APGAR5': {'Dados Faltantes': 103, 'Dados completos': 26925}, 'RACACOR': {'Dados Faltantes': 647, 'Dados completos': 26381}, 'PESO': {'Dados Faltantes': 0, 'Dados completos': 27028}, 'IDANOMAL': {'Dados Faltantes': 591, 'Dados completos': 26437}, 'DTCADASTRO': {'Dados Faltantes': 0, 'Dados completos': 27028}, 'CODANOMAL': {'Dados Faltantes': 26814, 'Dados completos': 214}, 'NUMEROLOTE': {'Dados Faltantes': 0, 'Dados completos': 27028}, 'VERSAOSIST': {'Dados Faltantes': 0, 'Dados completos': 27028}, 'DTRECEBIM': {'Dados Faltantes': 0, 'Dados completos': 27028}, 'DIFDATA': {'Dados Faltantes': 0, 'Dados completos': 27028}, 'DTRECORIGA': {'Dados Faltantes': 27028, 'Dados completos': 0}, 'NATURALMAE': {'Dados Faltantes': 298, 'Dados completos': 26730}, 'CODMUNNATU': {'Dados Faltantes': 298, 'Dados completos': 26730}, 'CODUFNATU': {'Dados Faltantes': 298, 'Dados completos': 26730}, 'ESCMAE2010': {'Dados Faltantes': 249, 'Dados completos': 26779}, 'SERIESCMAE': {'Dados Faltantes': 12710, 'Dados completos': 14318}, 'DTNASCMAE': {'Dados Faltantes': 40, 'Dados completos': 26988}, 'RACACORMAE': {'Dados Faltantes': 661, 'Dados completos': 26367}, 'QTDGESTANT': {'Dados Faltantes': 1212, 'Dados completos': 25816}, 'QTDPARTNOR': {'Dados Faltantes': 1879, 'Dados completos': 25149}, 'QTDPARTCES': {'Dados Faltantes': 1791, 'Dados completos': 25237}, 'IDADEPAI': {'Dados Faltantes': 19421, 'Dados completos': 7607}, 'DTULTMENST': {'Dados Faltantes': 10072, 'Dados completos': 16956}, 'SEMAGESTAC': {'Dados Faltantes': 1238, 'Dados completos': 25790}, 'TPMETESTIM': {'Dados Faltantes': 1238, 'Dados completos': 25790}, 'CONSPRENAT': {'Dados Faltantes': 930, 'Dados completos': 26098}, 'MESPRENAT': {'Dados Faltantes': 2867, 'Dados completos': 24161}, 'TPAPRESENT': {'Dados Faltantes': 265, 'Dados completos': 26763}, 'STTRABPART': {'Dados Faltantes': 947, 'Dados completos': 26081}, 'STCESPARTO': {'Dados Faltantes': 747, 'Dados completos': 26281}, 'TPNASCASSI': {'Dados Faltantes': 61, 'Dados completos': 26967}, 'TPFUNCRESP': {'Dados Faltantes': 67, 'Dados completos': 26961}, 'TPDOCRESP': {'Dados Faltantes': 14, 'Dados completos': 27014}, 'DTDECLARAC': {'Dados Faltantes': 52, 'Dados completos': 26976}, 'ESCMAEAGR1': {'Dados Faltantes': 249, 'Dados completos': 26779}, 'STDNEPIDEM': {'Dados Faltantes': 0, 'Dados completos': 27028}, 'STDNNOVA': {'Dados Faltantes': 0, 'Dados completos': 27028}, 'CODPAISRES': {'Dados Faltantes': 0, 'Dados completos': 27028}, 'TPROBSON': {'Dados Faltantes': 0, 'Dados completos': 27028}, 'PARIDADE': {'Dados Faltantes': 0, 'Dados completos': 27028}, 'KOTELCHUCK': {'Dados Faltantes': 0, 'Dados completos': 27028}, 'CONTADOR': {'Dados Faltantes': 0, 'Dados completos': 27028}, 'munResStatus': {'Dados Faltantes': 0, 'Dados completos': 27028}, 'munResTipo': {'Dados Faltantes': 0, 'Dados completos': 27028}, 'munResNome': {'Dados Faltantes': 0, 'Dados completos': 27028}, 'munResUf': {'Dados Faltantes': 0, 'Dados completos': 27028}, 'munResLat': {'Dados Faltantes': 1, 'Dados completos': 27027}, 'munResLon': {'Dados Faltantes': 1, 'Dados completos': 27027}, 'munResAlt': {'Dados Faltantes': 1, 'Dados completos': 27027}, 'munResArea': {'Dados Faltantes': 1, 'Dados completos': 27027}}\n"
     ]
    }
   ],
   "source": [
    "av.count_missing(lista_de_variaveis, df)"
   ]
  },
  {
   "cell_type": "markdown",
   "metadata": {},
   "source": [
    "Foram constatados dados faltantes nas colunas 'CODESTAB', 'ESTCIVMAE', 'ESCMAE', 'CODOCUPMAE', 'QTDFILVIVO', 'QTDFILMORT', 'GESTACAO', 'GRAVIDEZ', 'PARTO', 'HORANASC', 'SEXO', 'APGAR1', 'APGAR5', 'RACACOR', 'IDANOMAL', 'CODANOMAL', 'DTRECORIGA' e etc...."
   ]
  },
  {
   "cell_type": "markdown",
   "metadata": {},
   "source": [
    "3. Ok, no item anterior você deve ter achado pouco prático ler a informação de tantas variáveis, muitas delas nem devem ser interesantes. Então crie uma seleção dessa base somente com as colunas que interessam. São elas:\n",
    "` \n",
    "['LOCNASC', 'IDADEMAE', 'ESTCIVMAE', 'ESCMAE', 'QTDFILVIVO', \n",
    "    'GESTACAO', 'GRAVIDEZ', 'CONSULTAS', 'APGAR5'] \n",
    "`\n",
    "Refaça a contagem de valores *missings*."
   ]
  },
  {
   "cell_type": "code",
   "execution_count": 59,
   "metadata": {},
   "outputs": [],
   "source": [
    "# 3) seu código aqui\n",
    "lista_de_colunas_de_interesse = ['LOCNASC', 'IDADEMAE', 'ESTCIVMAE', 'ESCMAE', 'QTDFILVIVO', \n",
    "    'GESTACAO', 'GRAVIDEZ', 'CONSULTAS', 'APGAR5']\n"
   ]
  },
  {
   "cell_type": "code",
   "execution_count": null,
   "metadata": {},
   "outputs": [],
   "source": [
    "df_icol = pd.DataFrame()\n",
    "for col in lista_de_colunas_de_interesse:\n",
    "    df_icol[col] = df[col]\n",
    "    \n",
    "df_icol"
   ]
  },
  {
   "cell_type": "markdown",
   "metadata": {},
   "source": [
    "4. Apgar é uma *nota* que o pediatra dá ao bebê quando nasce de acordo com algumas características associadas principalmente à respiração. Apgar 1 e Apgar 5 são as notas 1 e 5 minutos do nascimento. Apgar5 será a nossa variável de interesse principal. Então remova todos os registros com Apgar5 não preenchido. Para esta seleção, conte novamente o número de linhas e o número de *missings*."
   ]
  },
  {
   "cell_type": "code",
   "execution_count": 61,
   "metadata": {},
   "outputs": [],
   "source": [
    "# 4) seu código aqui\n",
    "df_icol.dropna(subset=['APGAR5'], inplace=True)"
   ]
  },
  {
   "cell_type": "code",
   "execution_count": 95,
   "metadata": {},
   "outputs": [
    {
     "data": {
      "text/plain": [
       "'A relação de dados faltantes para esta coluna é de 0, comparados com 25375 dados presentes.'"
      ]
     },
     "execution_count": 95,
     "metadata": {},
     "output_type": "execute_result"
    }
   ],
   "source": [
    "av.count_missing('APGAR5', df_icol)"
   ]
  },
  {
   "cell_type": "code",
   "execution_count": 96,
   "metadata": {},
   "outputs": [
    {
     "name": "stdout",
     "output_type": "stream",
     "text": [
      "{'LOCNASC': {'Dados Faltantes': 0, 'Dados completos': 25375}, 'IDADEMAE': {'Dados Faltantes': 0, 'Dados completos': 25375}, 'ESTCIVMAE': {'Dados Faltantes': 0, 'Dados completos': 25375}, 'ESCMAE': {'Dados Faltantes': 0, 'Dados completos': 25375}, 'QTDFILVIVO': {'Dados Faltantes': 0, 'Dados completos': 25375}, 'GESTACAO': {'Dados Faltantes': 0, 'Dados completos': 25375}, 'GRAVIDEZ': {'Dados Faltantes': 0, 'Dados completos': 25375}, 'CONSULTAS': {'Dados Faltantes': 0, 'Dados completos': 25375}, 'APGAR5': {'Dados Faltantes': 0, 'Dados completos': 25375}}\n"
     ]
    }
   ],
   "source": [
    "av.count_missing(lista_de_colunas_de_interesse, df_icol)"
   ]
  },
  {
   "cell_type": "markdown",
   "metadata": {},
   "source": [
    "5. observe que as variáveis `['ESTCIVMAE', 'CONSULTAS']` possuem o código `9`, que significa *ignorado*. Vamos assumir que o não preenchido é o mesmo que o código `9`"
   ]
  },
  {
   "cell_type": "code",
   "execution_count": null,
   "metadata": {},
   "outputs": [],
   "source": [
    "# 5) seu código aqui\n",
    "lista_estado_civil_consultas = ['ESTCIVMAE', 'CONSULTAS']\n",
    "av.count_missing(lista_estado_civil_consultas, df_icol )"
   ]
  },
  {
   "cell_type": "code",
   "execution_count": null,
   "metadata": {},
   "outputs": [],
   "source": [
    "df_icol['ESTCIVMAE'].fillna(9, inplace=True)"
   ]
  },
  {
   "cell_type": "code",
   "execution_count": 97,
   "metadata": {},
   "outputs": [
    {
     "name": "stdout",
     "output_type": "stream",
     "text": [
      "{'ESTCIVMAE': {'Dados Faltantes': 0, 'Dados completos': 25375}, 'CONSULTAS': {'Dados Faltantes': 0, 'Dados completos': 25375}}\n"
     ]
    }
   ],
   "source": [
    "av.count_missing(lista_estado_civil_consultas, df_icol )"
   ]
  },
  {
   "cell_type": "markdown",
   "metadata": {},
   "source": [
    "6. Substitua os valores faltantes da quantitativa (`QTDFILVIVO`) por zero."
   ]
  },
  {
   "cell_type": "code",
   "execution_count": null,
   "metadata": {},
   "outputs": [],
   "source": [
    "# 6) Seu código aqui\n",
    "av.count_missing('QTDFILVIVO', df_icol)"
   ]
  },
  {
   "cell_type": "code",
   "execution_count": null,
   "metadata": {},
   "outputs": [],
   "source": [
    "df_icol['QTDFILVIVO'].fillna(0, inplace=True)"
   ]
  },
  {
   "cell_type": "code",
   "execution_count": null,
   "metadata": {},
   "outputs": [],
   "source": [
    "av.count_missing('QTDFILVIVO', df_icol)"
   ]
  },
  {
   "cell_type": "markdown",
   "metadata": {},
   "source": [
    "7. Das restantes, decida que valores te parece mais adequado (um 'não preenchido' ou um valor 'mais provável' como no item anterior) e preencha. Justifique. Lembre-se de que tratamento de dados é trabalho do cientista, e que estamos tomando decisões a todo o momento - não há necessariamente certo e errado aqui. "
   ]
  },
  {
   "cell_type": "code",
   "execution_count": null,
   "metadata": {},
   "outputs": [],
   "source": [
    "# 7) seu código aqui \n",
    "linhas_totais = df.shape[0]\n",
    "linhas_com_dados_fantantes = av.count_lines_with_missing_data(lista_de_colunas_de_interesse, df_icol)\n",
    "dados_faltantes = av.return_true(lista_de_colunas_de_interesse, df_icol)\n",
    "print(f'O numero de dados faltantes deste dataframe é de: {dados_faltantes}')\n",
    "print(f'O numero de linhas com dados faltantes nesse dataframe é de: {linhas_com_dados_fantantes}')\n"
   ]
  },
  {
   "cell_type": "code",
   "execution_count": null,
   "metadata": {},
   "outputs": [],
   "source": [
    "#Calculo da relação em porcentagem das linhas faltantes em relação as linhas totais\n",
    "relacao_de_linhas_faltantes_e_totais = print(f'{round((linhas_com_dados_fantantes / linhas_totais) * 100, 2)}%')"
   ]
  },
  {
   "cell_type": "code",
   "execution_count": null,
   "metadata": {},
   "outputs": [],
   "source": [
    "lista_de_colunas_de_interesse"
   ]
  },
  {
   "cell_type": "code",
   "execution_count": null,
   "metadata": {},
   "outputs": [],
   "source": [
    "av.avaliação_de_proporcao(lista_de_colunas_de_interesse, df_icol)"
   ]
  },
  {
   "cell_type": "code",
   "execution_count": null,
   "metadata": {},
   "outputs": [],
   "source": [
    "av.avaliação_de_proporcao(lista_de_colunas_de_interesse, df_icol.dropna())"
   ]
  },
  {
   "cell_type": "code",
   "execution_count": null,
   "metadata": {},
   "outputs": [],
   "source": [
    "av.avaliação_de_proporcao('GESTACAO', df_icol)"
   ]
  },
  {
   "cell_type": "code",
   "execution_count": null,
   "metadata": {},
   "outputs": [],
   "source": [
    "av.avaliação_de_proporcao('GESTACAO', df_icol.dropna())"
   ]
  },
  {
   "cell_type": "code",
   "execution_count": 76,
   "metadata": {},
   "outputs": [],
   "source": [
    "df_icol.dropna(inplace=True)"
   ]
  },
  {
   "cell_type": "markdown",
   "metadata": {},
   "source": [
    "A escolha da utilização do método de exclusão das linhas com dados ausentes foi alicerciada por dois fatores, no código acima utilizamos um método da classe 'missing _information', desenvolvida neste Notebook, para averiguar possiveis distorções na relação de valores de cada coluna do dataframe, comparando suas grandezas anteriormente e posteriormente uma possivel exclusão, o dado coletado foi de que não há notórias alterações nas grandezas, sendo a coluna mais afetada a de 'GESTACAO' com é possivel notar nas células de código 152 e 153.\n",
    "\n",
    "Foi realizada também uma análise da comparação do numero de linhas com dados ausentes ao numero total de linhas no Dataframe, e a relação foi de 5.73%\n",
    "\n",
    "Ambos os dados endorsaram a decisão final de tratamento destas linhas com dados ausentes."
   ]
  },
  {
   "cell_type": "markdown",
   "metadata": {},
   "source": [
    "8. O Apgar possui uma classificação indicando se o bebê passou por asfixia:\n",
    "- Entre 8 e 10 está em uma faixa 'normal'. \n",
    "- Entre 6 e 7, significa que o recém-nascido passou por 'asfixia leve'. \n",
    "- Entre 4 e 5 significa 'asfixia moderada'.\n",
    "- Entre 0 e 3 significa 'asfixia severa'.  \n",
    "\n",
    "Crie uma categorização dessa variável com essa codificação e calcule as frequências dessa categorização. "
   ]
  },
  {
   "cell_type": "code",
   "execution_count": null,
   "metadata": {},
   "outputs": [],
   "source": [
    "df_icol.head(n=5)"
   ]
  },
  {
   "cell_type": "code",
   "execution_count": 78,
   "metadata": {},
   "outputs": [],
   "source": [
    "# 8) seu código aqui\n",
    "df_icol.loc[(df_icol['APGAR5'] >= 8) & (df_icol['APGAR5'] <= 10), 'CAT_APGAR5'] = 'normal'\n",
    "df_icol.loc[(df_icol['APGAR5']>= 6) & (df_icol['APGAR5'] <= 7), 'CAT_APGAR5'] = 'asfixia leve'\n",
    "df_icol.loc[(df_icol['APGAR5']>= 4) & (df_icol['APGAR5'] <= 5), 'CAT_APGAR5'] = 'asfixia moderada'\n",
    "df_icol.loc[(df_icol['APGAR5'] >= 0) & (df_icol['APGAR5'] <= 3), 'CAT_APGAR5'] = 'asfixia severa'"
   ]
  },
  {
   "cell_type": "code",
   "execution_count": null,
   "metadata": {},
   "outputs": [],
   "source": [
    "df_icol.loc[df_icol['CAT_APGAR5'] == 'normal']"
   ]
  },
  {
   "cell_type": "code",
   "execution_count": null,
   "metadata": {},
   "outputs": [],
   "source": [
    "df_icol.loc[df_icol['CAT_APGAR5'] == 'asfixia leve']"
   ]
  },
  {
   "cell_type": "code",
   "execution_count": null,
   "metadata": {},
   "outputs": [],
   "source": [
    "df_icol.loc[df_icol['CAT_APGAR5'] == 'asfixia moderada']"
   ]
  },
  {
   "cell_type": "code",
   "execution_count": null,
   "metadata": {},
   "outputs": [],
   "source": [
    "df_icol.loc[df_icol['CAT_APGAR5'] == 'asfixia severa']"
   ]
  },
  {
   "cell_type": "markdown",
   "metadata": {},
   "source": [
    "9. Renomeie as variáveis para que fiquem no *snake case*, ou seja, em letras minúsculas, com um *underscore* entre as palávras. Dica: repare que se você não quiser criar um *dataframe* novo, você vai precisar usar a opção `inplace = True`."
   ]
  },
  {
   "cell_type": "code",
   "execution_count": null,
   "metadata": {},
   "outputs": [],
   "source": [
    "# 9) seu código aqui\n",
    "snake_case = lambda texto: texto.upper().replace(' ','_')\n",
    "df_icol['CAT_APGAR5'] = df_icol['CAT_APGAR5'].apply(snake_case)\n",
    "df_icol.loc[df_icol['CAT_APGAR5'] == 'ASFIXIA_SEVERA']"
   ]
  }
 ],
 "metadata": {
  "kernelspec": {
   "display_name": "Python 3",
   "language": "python",
   "name": "python3"
  },
  "language_info": {
   "codemirror_mode": {
    "name": "ipython",
    "version": 3
   },
   "file_extension": ".py",
   "mimetype": "text/x-python",
   "name": "python",
   "nbconvert_exporter": "python",
   "pygments_lexer": "ipython3",
   "version": "3.12.4"
  }
 },
 "nbformat": 4,
 "nbformat_minor": 4
}

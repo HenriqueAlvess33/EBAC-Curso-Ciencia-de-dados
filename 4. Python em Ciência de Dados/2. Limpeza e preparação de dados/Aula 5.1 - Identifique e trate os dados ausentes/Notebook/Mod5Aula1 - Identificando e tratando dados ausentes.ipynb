{
 "cells": [
  {
   "cell_type": "markdown",
   "metadata": {},
   "source": [
    "# 0. Índice <a name=\"Contents\"></a>\n",
    "1. [Importando bibliotecas](#import)\n",
    "2. [Construindo um dataframe](#read)\n",
    "3. [Identificando dados ausentes/missing](#identificando)\n",
    "4. [Tratando dados ausentes/missing](#tratando)\n",
    "5. [Dados duplicados](#duplicados)\n",
    "6. [Mapeamento](#map)\n",
    "\n"
   ]
  },
  {
   "cell_type": "markdown",
   "metadata": {},
   "source": [
    "# 1. Importando bibliotecas <a name=\"import\"></a>\n",
    "\n",
    "<div style=\"text-align: right\"\n",
    "     \n",
    "[Voltar ao índice](#Contents)"
   ]
  },
  {
   "cell_type": "code",
   "execution_count": 1,
   "metadata": {
    "ExecuteTime": {
     "end_time": "2021-06-06T21:12:37.298706Z",
     "start_time": "2021-06-06T21:12:36.656481Z"
    }
   },
   "outputs": [],
   "source": [
    "import pandas as pd\n",
    "import numpy as np"
   ]
  },
  {
   "cell_type": "markdown",
   "metadata": {},
   "source": [
    "# 2. Construindo um dataframe <a name=\"read\"></a>\n",
    "<div style=\"text-align: right\"\n",
    "     \n",
    "[Voltar ao índice](#Contents)"
   ]
  },
  {
   "cell_type": "code",
   "execution_count": 2,
   "metadata": {
    "ExecuteTime": {
     "end_time": "2021-06-06T21:12:37.762376Z",
     "start_time": "2021-06-06T21:12:37.728383Z"
    }
   },
   "outputs": [
    {
     "data": {
      "text/html": [
       "<div>\n",
       "<style scoped>\n",
       "    .dataframe tbody tr th:only-of-type {\n",
       "        vertical-align: middle;\n",
       "    }\n",
       "\n",
       "    .dataframe tbody tr th {\n",
       "        vertical-align: top;\n",
       "    }\n",
       "\n",
       "    .dataframe thead th {\n",
       "        text-align: right;\n",
       "    }\n",
       "</style>\n",
       "<table border=\"1\" class=\"dataframe\">\n",
       "  <thead>\n",
       "    <tr style=\"text-align: right;\">\n",
       "      <th></th>\n",
       "      <th>coluna1</th>\n",
       "      <th>coluna2</th>\n",
       "      <th>coluna3</th>\n",
       "      <th>coluna4</th>\n",
       "    </tr>\n",
       "  </thead>\n",
       "  <tbody>\n",
       "    <tr>\n",
       "      <th>A</th>\n",
       "      <td>37.667623</td>\n",
       "      <td>160.426864</td>\n",
       "      <td>26.534952</td>\n",
       "      <td>-63.159268</td>\n",
       "    </tr>\n",
       "    <tr>\n",
       "      <th>B</th>\n",
       "      <td>28.300573</td>\n",
       "      <td>-42.649663</td>\n",
       "      <td>74.927351</td>\n",
       "      <td>52.773876</td>\n",
       "    </tr>\n",
       "    <tr>\n",
       "      <th>C</th>\n",
       "      <td>-75.375987</td>\n",
       "      <td>-106.073329</td>\n",
       "      <td>-186.757303</td>\n",
       "      <td>11.964203</td>\n",
       "    </tr>\n",
       "    <tr>\n",
       "      <th>D</th>\n",
       "      <td>28.748617</td>\n",
       "      <td>4.947469</td>\n",
       "      <td>-46.453760</td>\n",
       "      <td>31.714625</td>\n",
       "    </tr>\n",
       "    <tr>\n",
       "      <th>E</th>\n",
       "      <td>134.474381</td>\n",
       "      <td>-57.716214</td>\n",
       "      <td>13.219282</td>\n",
       "      <td>83.011871</td>\n",
       "    </tr>\n",
       "    <tr>\n",
       "      <th>F</th>\n",
       "      <td>17.612729</td>\n",
       "      <td>37.262460</td>\n",
       "      <td>104.909929</td>\n",
       "      <td>-139.101149</td>\n",
       "    </tr>\n",
       "    <tr>\n",
       "      <th>G</th>\n",
       "      <td>146.982358</td>\n",
       "      <td>107.919949</td>\n",
       "      <td>7.009006</td>\n",
       "      <td>-168.252513</td>\n",
       "    </tr>\n",
       "    <tr>\n",
       "      <th>H</th>\n",
       "      <td>3.337612</td>\n",
       "      <td>44.991648</td>\n",
       "      <td>-3.890638</td>\n",
       "      <td>-118.851465</td>\n",
       "    </tr>\n",
       "    <tr>\n",
       "      <th>I</th>\n",
       "      <td>-104.858759</td>\n",
       "      <td>68.195993</td>\n",
       "      <td>-81.733960</td>\n",
       "      <td>-111.019660</td>\n",
       "    </tr>\n",
       "  </tbody>\n",
       "</table>\n",
       "</div>"
      ],
      "text/plain": [
       "      coluna1     coluna2     coluna3     coluna4\n",
       "A   37.667623  160.426864   26.534952  -63.159268\n",
       "B   28.300573  -42.649663   74.927351   52.773876\n",
       "C  -75.375987 -106.073329 -186.757303   11.964203\n",
       "D   28.748617    4.947469  -46.453760   31.714625\n",
       "E  134.474381  -57.716214   13.219282   83.011871\n",
       "F   17.612729   37.262460  104.909929 -139.101149\n",
       "G  146.982358  107.919949    7.009006 -168.252513\n",
       "H    3.337612   44.991648   -3.890638 -118.851465\n",
       "I -104.858759   68.195993  -81.733960 -111.019660"
      ]
     },
     "execution_count": 2,
     "metadata": {},
     "output_type": "execute_result"
    }
   ],
   "source": [
    "df = pd.DataFrame(\n",
    "    np.random.randn(9, 4)*100,\n",
    "    index=[\"A\", \"B\", \"C\", \"D\", \"E\", \"F\", \"G\", \"H\", \"I\"],\n",
    "    columns=[\"coluna1\", \"coluna2\", \"coluna3\",\"coluna4\"],\n",
    ")\n",
    "df"
   ]
  },
  {
   "cell_type": "code",
   "execution_count": 3,
   "metadata": {
    "ExecuteTime": {
     "end_time": "2021-06-06T21:12:37.905357Z",
     "start_time": "2021-06-06T21:12:37.898346Z"
    }
   },
   "outputs": [
    {
     "data": {
      "text/plain": [
       "coluna1    float64\n",
       "coluna2    float64\n",
       "coluna3    float64\n",
       "coluna4    float64\n",
       "dtype: object"
      ]
     },
     "execution_count": 3,
     "metadata": {},
     "output_type": "execute_result"
    }
   ],
   "source": [
    "df.dtypes"
   ]
  },
  {
   "cell_type": "markdown",
   "metadata": {},
   "source": [
    "## Alterando os tipos de dados"
   ]
  },
  {
   "cell_type": "code",
   "execution_count": 4,
   "metadata": {
    "ExecuteTime": {
     "end_time": "2021-06-06T21:12:38.347455Z",
     "start_time": "2021-06-06T21:12:38.328485Z"
    }
   },
   "outputs": [],
   "source": [
    "df['coluna1'] = df['coluna1'].astype(int)"
   ]
  },
  {
   "cell_type": "code",
   "execution_count": 5,
   "metadata": {
    "ExecuteTime": {
     "end_time": "2021-06-06T21:12:38.691540Z",
     "start_time": "2021-06-06T21:12:38.682542Z"
    }
   },
   "outputs": [
    {
     "data": {
      "text/plain": [
       "coluna1      int32\n",
       "coluna2    float64\n",
       "coluna3    float64\n",
       "coluna4    float64\n",
       "dtype: object"
      ]
     },
     "execution_count": 5,
     "metadata": {},
     "output_type": "execute_result"
    }
   ],
   "source": [
    "df.dtypes"
   ]
  },
  {
   "cell_type": "code",
   "execution_count": 6,
   "metadata": {
    "ExecuteTime": {
     "end_time": "2021-06-06T21:12:38.880255Z",
     "start_time": "2021-06-06T21:12:38.862253Z"
    }
   },
   "outputs": [],
   "source": [
    "df['coluna3'] = df['coluna3'].astype(str)"
   ]
  },
  {
   "cell_type": "code",
   "execution_count": 7,
   "metadata": {
    "ExecuteTime": {
     "end_time": "2021-06-06T21:12:39.053345Z",
     "start_time": "2021-06-06T21:12:39.040378Z"
    }
   },
   "outputs": [
    {
     "data": {
      "text/plain": [
       "coluna1      int32\n",
       "coluna2    float64\n",
       "coluna3     object\n",
       "coluna4    float64\n",
       "dtype: object"
      ]
     },
     "execution_count": 7,
     "metadata": {},
     "output_type": "execute_result"
    }
   ],
   "source": [
    "df.dtypes"
   ]
  },
  {
   "cell_type": "code",
   "execution_count": 8,
   "metadata": {
    "ExecuteTime": {
     "end_time": "2021-06-06T21:12:39.242790Z",
     "start_time": "2021-06-06T21:12:39.218792Z"
    },
    "scrolled": true
   },
   "outputs": [
    {
     "data": {
      "text/html": [
       "<div>\n",
       "<style scoped>\n",
       "    .dataframe tbody tr th:only-of-type {\n",
       "        vertical-align: middle;\n",
       "    }\n",
       "\n",
       "    .dataframe tbody tr th {\n",
       "        vertical-align: top;\n",
       "    }\n",
       "\n",
       "    .dataframe thead th {\n",
       "        text-align: right;\n",
       "    }\n",
       "</style>\n",
       "<table border=\"1\" class=\"dataframe\">\n",
       "  <thead>\n",
       "    <tr style=\"text-align: right;\">\n",
       "      <th></th>\n",
       "      <th>coluna1</th>\n",
       "      <th>coluna2</th>\n",
       "      <th>coluna3</th>\n",
       "      <th>coluna4</th>\n",
       "    </tr>\n",
       "  </thead>\n",
       "  <tbody>\n",
       "    <tr>\n",
       "      <th>A</th>\n",
       "      <td>37</td>\n",
       "      <td>160.426864</td>\n",
       "      <td>26.53495215807759</td>\n",
       "      <td>-63.159268</td>\n",
       "    </tr>\n",
       "    <tr>\n",
       "      <th>B</th>\n",
       "      <td>28</td>\n",
       "      <td>-42.649663</td>\n",
       "      <td>74.92735099424476</td>\n",
       "      <td>52.773876</td>\n",
       "    </tr>\n",
       "    <tr>\n",
       "      <th>C</th>\n",
       "      <td>-75</td>\n",
       "      <td>-106.073329</td>\n",
       "      <td>-186.75730263732882</td>\n",
       "      <td>11.964203</td>\n",
       "    </tr>\n",
       "    <tr>\n",
       "      <th>D</th>\n",
       "      <td>28</td>\n",
       "      <td>4.947469</td>\n",
       "      <td>-46.45375960317058</td>\n",
       "      <td>31.714625</td>\n",
       "    </tr>\n",
       "    <tr>\n",
       "      <th>E</th>\n",
       "      <td>134</td>\n",
       "      <td>-57.716214</td>\n",
       "      <td>13.219282305552937</td>\n",
       "      <td>83.011871</td>\n",
       "    </tr>\n",
       "    <tr>\n",
       "      <th>F</th>\n",
       "      <td>17</td>\n",
       "      <td>37.262460</td>\n",
       "      <td>104.90992887023529</td>\n",
       "      <td>-139.101149</td>\n",
       "    </tr>\n",
       "    <tr>\n",
       "      <th>G</th>\n",
       "      <td>146</td>\n",
       "      <td>107.919949</td>\n",
       "      <td>7.009005537783794</td>\n",
       "      <td>-168.252513</td>\n",
       "    </tr>\n",
       "    <tr>\n",
       "      <th>H</th>\n",
       "      <td>3</td>\n",
       "      <td>44.991648</td>\n",
       "      <td>-3.8906376344036255</td>\n",
       "      <td>-118.851465</td>\n",
       "    </tr>\n",
       "    <tr>\n",
       "      <th>I</th>\n",
       "      <td>-104</td>\n",
       "      <td>68.195993</td>\n",
       "      <td>-81.73396014687793</td>\n",
       "      <td>-111.019660</td>\n",
       "    </tr>\n",
       "  </tbody>\n",
       "</table>\n",
       "</div>"
      ],
      "text/plain": [
       "   coluna1     coluna2              coluna3     coluna4\n",
       "A       37  160.426864    26.53495215807759  -63.159268\n",
       "B       28  -42.649663    74.92735099424476   52.773876\n",
       "C      -75 -106.073329  -186.75730263732882   11.964203\n",
       "D       28    4.947469   -46.45375960317058   31.714625\n",
       "E      134  -57.716214   13.219282305552937   83.011871\n",
       "F       17   37.262460   104.90992887023529 -139.101149\n",
       "G      146  107.919949    7.009005537783794 -168.252513\n",
       "H        3   44.991648  -3.8906376344036255 -118.851465\n",
       "I     -104   68.195993   -81.73396014687793 -111.019660"
      ]
     },
     "execution_count": 8,
     "metadata": {},
     "output_type": "execute_result"
    }
   ],
   "source": [
    "df"
   ]
  },
  {
   "cell_type": "markdown",
   "metadata": {},
   "source": [
    "## Acrescentando dados faltantes na tabela"
   ]
  },
  {
   "cell_type": "code",
   "execution_count": 9,
   "metadata": {
    "ExecuteTime": {
     "end_time": "2021-06-06T21:12:39.573279Z",
     "start_time": "2021-06-06T21:12:39.564267Z"
    }
   },
   "outputs": [
    {
     "data": {
      "text/plain": [
       "'13.219282305552937'"
      ]
     },
     "execution_count": 9,
     "metadata": {},
     "output_type": "execute_result"
    }
   ],
   "source": [
    "df.iloc[4,2]"
   ]
  },
  {
   "cell_type": "code",
   "execution_count": 10,
   "metadata": {
    "ExecuteTime": {
     "end_time": "2021-06-06T21:12:39.746161Z",
     "start_time": "2021-06-06T21:12:39.738166Z"
    }
   },
   "outputs": [],
   "source": [
    "df.iloc[4,2] = np.nan"
   ]
  },
  {
   "cell_type": "code",
   "execution_count": 11,
   "metadata": {
    "ExecuteTime": {
     "end_time": "2021-06-06T21:12:39.934151Z",
     "start_time": "2021-06-06T21:12:39.917147Z"
    }
   },
   "outputs": [
    {
     "data": {
      "text/html": [
       "<div>\n",
       "<style scoped>\n",
       "    .dataframe tbody tr th:only-of-type {\n",
       "        vertical-align: middle;\n",
       "    }\n",
       "\n",
       "    .dataframe tbody tr th {\n",
       "        vertical-align: top;\n",
       "    }\n",
       "\n",
       "    .dataframe thead th {\n",
       "        text-align: right;\n",
       "    }\n",
       "</style>\n",
       "<table border=\"1\" class=\"dataframe\">\n",
       "  <thead>\n",
       "    <tr style=\"text-align: right;\">\n",
       "      <th></th>\n",
       "      <th>coluna1</th>\n",
       "      <th>coluna2</th>\n",
       "      <th>coluna3</th>\n",
       "      <th>coluna4</th>\n",
       "    </tr>\n",
       "  </thead>\n",
       "  <tbody>\n",
       "    <tr>\n",
       "      <th>A</th>\n",
       "      <td>37</td>\n",
       "      <td>160.426864</td>\n",
       "      <td>26.53495215807759</td>\n",
       "      <td>-63.159268</td>\n",
       "    </tr>\n",
       "    <tr>\n",
       "      <th>B</th>\n",
       "      <td>28</td>\n",
       "      <td>-42.649663</td>\n",
       "      <td>74.92735099424476</td>\n",
       "      <td>52.773876</td>\n",
       "    </tr>\n",
       "    <tr>\n",
       "      <th>C</th>\n",
       "      <td>-75</td>\n",
       "      <td>-106.073329</td>\n",
       "      <td>-186.75730263732882</td>\n",
       "      <td>11.964203</td>\n",
       "    </tr>\n",
       "    <tr>\n",
       "      <th>D</th>\n",
       "      <td>28</td>\n",
       "      <td>4.947469</td>\n",
       "      <td>-46.45375960317058</td>\n",
       "      <td>31.714625</td>\n",
       "    </tr>\n",
       "    <tr>\n",
       "      <th>E</th>\n",
       "      <td>134</td>\n",
       "      <td>-57.716214</td>\n",
       "      <td>NaN</td>\n",
       "      <td>83.011871</td>\n",
       "    </tr>\n",
       "    <tr>\n",
       "      <th>F</th>\n",
       "      <td>17</td>\n",
       "      <td>37.262460</td>\n",
       "      <td>104.90992887023529</td>\n",
       "      <td>-139.101149</td>\n",
       "    </tr>\n",
       "    <tr>\n",
       "      <th>G</th>\n",
       "      <td>146</td>\n",
       "      <td>107.919949</td>\n",
       "      <td>7.009005537783794</td>\n",
       "      <td>-168.252513</td>\n",
       "    </tr>\n",
       "    <tr>\n",
       "      <th>H</th>\n",
       "      <td>3</td>\n",
       "      <td>44.991648</td>\n",
       "      <td>-3.8906376344036255</td>\n",
       "      <td>-118.851465</td>\n",
       "    </tr>\n",
       "    <tr>\n",
       "      <th>I</th>\n",
       "      <td>-104</td>\n",
       "      <td>68.195993</td>\n",
       "      <td>-81.73396014687793</td>\n",
       "      <td>-111.019660</td>\n",
       "    </tr>\n",
       "  </tbody>\n",
       "</table>\n",
       "</div>"
      ],
      "text/plain": [
       "   coluna1     coluna2              coluna3     coluna4\n",
       "A       37  160.426864    26.53495215807759  -63.159268\n",
       "B       28  -42.649663    74.92735099424476   52.773876\n",
       "C      -75 -106.073329  -186.75730263732882   11.964203\n",
       "D       28    4.947469   -46.45375960317058   31.714625\n",
       "E      134  -57.716214                  NaN   83.011871\n",
       "F       17   37.262460   104.90992887023529 -139.101149\n",
       "G      146  107.919949    7.009005537783794 -168.252513\n",
       "H        3   44.991648  -3.8906376344036255 -118.851465\n",
       "I     -104   68.195993   -81.73396014687793 -111.019660"
      ]
     },
     "execution_count": 11,
     "metadata": {},
     "output_type": "execute_result"
    }
   ],
   "source": [
    "df"
   ]
  },
  {
   "cell_type": "code",
   "execution_count": 12,
   "metadata": {
    "ExecuteTime": {
     "end_time": "2021-06-06T21:12:40.123274Z",
     "start_time": "2021-06-06T21:12:40.103273Z"
    }
   },
   "outputs": [],
   "source": [
    "df.iloc[1,0] = np.nan\n",
    "df.iloc[4,0] = np.nan\n",
    "df.iloc[3,0] = np.nan\n",
    "df.iloc[8,0] = np.nan\n",
    "df.iloc[6,0] = np.nan\n",
    "df.iloc[4,3] = np.nan\n",
    "df.iloc[4,3] = np.nan\n",
    "df.iloc[8,3] = np.nan"
   ]
  },
  {
   "cell_type": "code",
   "execution_count": 13,
   "metadata": {
    "ExecuteTime": {
     "end_time": "2021-06-06T21:12:40.313753Z",
     "start_time": "2021-06-06T21:12:40.295768Z"
    }
   },
   "outputs": [
    {
     "data": {
      "text/html": [
       "<div>\n",
       "<style scoped>\n",
       "    .dataframe tbody tr th:only-of-type {\n",
       "        vertical-align: middle;\n",
       "    }\n",
       "\n",
       "    .dataframe tbody tr th {\n",
       "        vertical-align: top;\n",
       "    }\n",
       "\n",
       "    .dataframe thead th {\n",
       "        text-align: right;\n",
       "    }\n",
       "</style>\n",
       "<table border=\"1\" class=\"dataframe\">\n",
       "  <thead>\n",
       "    <tr style=\"text-align: right;\">\n",
       "      <th></th>\n",
       "      <th>coluna1</th>\n",
       "      <th>coluna2</th>\n",
       "      <th>coluna3</th>\n",
       "      <th>coluna4</th>\n",
       "    </tr>\n",
       "  </thead>\n",
       "  <tbody>\n",
       "    <tr>\n",
       "      <th>A</th>\n",
       "      <td>37.0</td>\n",
       "      <td>160.426864</td>\n",
       "      <td>26.53495215807759</td>\n",
       "      <td>-63.159268</td>\n",
       "    </tr>\n",
       "    <tr>\n",
       "      <th>B</th>\n",
       "      <td>NaN</td>\n",
       "      <td>-42.649663</td>\n",
       "      <td>74.92735099424476</td>\n",
       "      <td>52.773876</td>\n",
       "    </tr>\n",
       "    <tr>\n",
       "      <th>C</th>\n",
       "      <td>-75.0</td>\n",
       "      <td>-106.073329</td>\n",
       "      <td>-186.75730263732882</td>\n",
       "      <td>11.964203</td>\n",
       "    </tr>\n",
       "    <tr>\n",
       "      <th>D</th>\n",
       "      <td>NaN</td>\n",
       "      <td>4.947469</td>\n",
       "      <td>-46.45375960317058</td>\n",
       "      <td>31.714625</td>\n",
       "    </tr>\n",
       "    <tr>\n",
       "      <th>E</th>\n",
       "      <td>NaN</td>\n",
       "      <td>-57.716214</td>\n",
       "      <td>NaN</td>\n",
       "      <td>NaN</td>\n",
       "    </tr>\n",
       "    <tr>\n",
       "      <th>F</th>\n",
       "      <td>17.0</td>\n",
       "      <td>37.262460</td>\n",
       "      <td>104.90992887023529</td>\n",
       "      <td>-139.101149</td>\n",
       "    </tr>\n",
       "    <tr>\n",
       "      <th>G</th>\n",
       "      <td>NaN</td>\n",
       "      <td>107.919949</td>\n",
       "      <td>7.009005537783794</td>\n",
       "      <td>-168.252513</td>\n",
       "    </tr>\n",
       "    <tr>\n",
       "      <th>H</th>\n",
       "      <td>3.0</td>\n",
       "      <td>44.991648</td>\n",
       "      <td>-3.8906376344036255</td>\n",
       "      <td>-118.851465</td>\n",
       "    </tr>\n",
       "    <tr>\n",
       "      <th>I</th>\n",
       "      <td>NaN</td>\n",
       "      <td>68.195993</td>\n",
       "      <td>-81.73396014687793</td>\n",
       "      <td>NaN</td>\n",
       "    </tr>\n",
       "  </tbody>\n",
       "</table>\n",
       "</div>"
      ],
      "text/plain": [
       "   coluna1     coluna2              coluna3     coluna4\n",
       "A     37.0  160.426864    26.53495215807759  -63.159268\n",
       "B      NaN  -42.649663    74.92735099424476   52.773876\n",
       "C    -75.0 -106.073329  -186.75730263732882   11.964203\n",
       "D      NaN    4.947469   -46.45375960317058   31.714625\n",
       "E      NaN  -57.716214                  NaN         NaN\n",
       "F     17.0   37.262460   104.90992887023529 -139.101149\n",
       "G      NaN  107.919949    7.009005537783794 -168.252513\n",
       "H      3.0   44.991648  -3.8906376344036255 -118.851465\n",
       "I      NaN   68.195993   -81.73396014687793         NaN"
      ]
     },
     "execution_count": 13,
     "metadata": {},
     "output_type": "execute_result"
    }
   ],
   "source": [
    "df"
   ]
  },
  {
   "cell_type": "code",
   "execution_count": 14,
   "metadata": {
    "ExecuteTime": {
     "end_time": "2021-06-06T21:12:40.830082Z",
     "start_time": "2021-06-06T21:12:40.811093Z"
    }
   },
   "outputs": [
    {
     "data": {
      "text/plain": [
       "coluna1    float64\n",
       "coluna2    float64\n",
       "coluna3     object\n",
       "coluna4    float64\n",
       "dtype: object"
      ]
     },
     "execution_count": 14,
     "metadata": {},
     "output_type": "execute_result"
    }
   ],
   "source": [
    "# Os tipos de dados podem mudar após acrescentar um dado faltante\n",
    "df.dtypes"
   ]
  },
  {
   "cell_type": "code",
   "execution_count": null,
   "metadata": {},
   "outputs": [],
   "source": []
  },
  {
   "cell_type": "code",
   "execution_count": null,
   "metadata": {},
   "outputs": [],
   "source": []
  },
  {
   "cell_type": "markdown",
   "metadata": {},
   "source": [
    "# 3. Identificando dados ausentes <a name=\"identificando\"></a>\n",
    "<div style=\"text-align: right\"\n",
    "     \n",
    "[Voltar ao índice](#Contents)"
   ]
  },
  {
   "cell_type": "code",
   "execution_count": 15,
   "metadata": {
    "ExecuteTime": {
     "end_time": "2021-06-06T21:12:42.301727Z",
     "start_time": "2021-06-06T21:12:42.292736Z"
    }
   },
   "outputs": [
    {
     "data": {
      "text/html": [
       "<div>\n",
       "<style scoped>\n",
       "    .dataframe tbody tr th:only-of-type {\n",
       "        vertical-align: middle;\n",
       "    }\n",
       "\n",
       "    .dataframe tbody tr th {\n",
       "        vertical-align: top;\n",
       "    }\n",
       "\n",
       "    .dataframe thead th {\n",
       "        text-align: right;\n",
       "    }\n",
       "</style>\n",
       "<table border=\"1\" class=\"dataframe\">\n",
       "  <thead>\n",
       "    <tr style=\"text-align: right;\">\n",
       "      <th></th>\n",
       "      <th>coluna1</th>\n",
       "      <th>coluna2</th>\n",
       "      <th>coluna3</th>\n",
       "      <th>coluna4</th>\n",
       "    </tr>\n",
       "  </thead>\n",
       "  <tbody>\n",
       "    <tr>\n",
       "      <th>A</th>\n",
       "      <td>False</td>\n",
       "      <td>False</td>\n",
       "      <td>False</td>\n",
       "      <td>False</td>\n",
       "    </tr>\n",
       "    <tr>\n",
       "      <th>B</th>\n",
       "      <td>True</td>\n",
       "      <td>False</td>\n",
       "      <td>False</td>\n",
       "      <td>False</td>\n",
       "    </tr>\n",
       "    <tr>\n",
       "      <th>C</th>\n",
       "      <td>False</td>\n",
       "      <td>False</td>\n",
       "      <td>False</td>\n",
       "      <td>False</td>\n",
       "    </tr>\n",
       "    <tr>\n",
       "      <th>D</th>\n",
       "      <td>True</td>\n",
       "      <td>False</td>\n",
       "      <td>False</td>\n",
       "      <td>False</td>\n",
       "    </tr>\n",
       "    <tr>\n",
       "      <th>E</th>\n",
       "      <td>True</td>\n",
       "      <td>False</td>\n",
       "      <td>True</td>\n",
       "      <td>True</td>\n",
       "    </tr>\n",
       "    <tr>\n",
       "      <th>F</th>\n",
       "      <td>False</td>\n",
       "      <td>False</td>\n",
       "      <td>False</td>\n",
       "      <td>False</td>\n",
       "    </tr>\n",
       "    <tr>\n",
       "      <th>G</th>\n",
       "      <td>True</td>\n",
       "      <td>False</td>\n",
       "      <td>False</td>\n",
       "      <td>False</td>\n",
       "    </tr>\n",
       "    <tr>\n",
       "      <th>H</th>\n",
       "      <td>False</td>\n",
       "      <td>False</td>\n",
       "      <td>False</td>\n",
       "      <td>False</td>\n",
       "    </tr>\n",
       "    <tr>\n",
       "      <th>I</th>\n",
       "      <td>True</td>\n",
       "      <td>False</td>\n",
       "      <td>False</td>\n",
       "      <td>True</td>\n",
       "    </tr>\n",
       "  </tbody>\n",
       "</table>\n",
       "</div>"
      ],
      "text/plain": [
       "   coluna1  coluna2  coluna3  coluna4\n",
       "A    False    False    False    False\n",
       "B     True    False    False    False\n",
       "C    False    False    False    False\n",
       "D     True    False    False    False\n",
       "E     True    False     True     True\n",
       "F    False    False    False    False\n",
       "G     True    False    False    False\n",
       "H    False    False    False    False\n",
       "I     True    False    False     True"
      ]
     },
     "execution_count": 15,
     "metadata": {},
     "output_type": "execute_result"
    }
   ],
   "source": [
    "df.isna()"
   ]
  },
  {
   "cell_type": "code",
   "execution_count": 16,
   "metadata": {
    "ExecuteTime": {
     "end_time": "2021-06-06T21:13:06.490476Z",
     "start_time": "2021-06-06T21:13:06.475491Z"
    }
   },
   "outputs": [
    {
     "data": {
      "text/html": [
       "<div>\n",
       "<style scoped>\n",
       "    .dataframe tbody tr th:only-of-type {\n",
       "        vertical-align: middle;\n",
       "    }\n",
       "\n",
       "    .dataframe tbody tr th {\n",
       "        vertical-align: top;\n",
       "    }\n",
       "\n",
       "    .dataframe thead th {\n",
       "        text-align: right;\n",
       "    }\n",
       "</style>\n",
       "<table border=\"1\" class=\"dataframe\">\n",
       "  <thead>\n",
       "    <tr style=\"text-align: right;\">\n",
       "      <th></th>\n",
       "      <th>coluna1</th>\n",
       "      <th>coluna2</th>\n",
       "      <th>coluna3</th>\n",
       "      <th>coluna4</th>\n",
       "    </tr>\n",
       "  </thead>\n",
       "  <tbody>\n",
       "    <tr>\n",
       "      <th>A</th>\n",
       "      <td>False</td>\n",
       "      <td>False</td>\n",
       "      <td>False</td>\n",
       "      <td>False</td>\n",
       "    </tr>\n",
       "    <tr>\n",
       "      <th>B</th>\n",
       "      <td>True</td>\n",
       "      <td>False</td>\n",
       "      <td>False</td>\n",
       "      <td>False</td>\n",
       "    </tr>\n",
       "    <tr>\n",
       "      <th>C</th>\n",
       "      <td>False</td>\n",
       "      <td>False</td>\n",
       "      <td>False</td>\n",
       "      <td>False</td>\n",
       "    </tr>\n",
       "    <tr>\n",
       "      <th>D</th>\n",
       "      <td>True</td>\n",
       "      <td>False</td>\n",
       "      <td>False</td>\n",
       "      <td>False</td>\n",
       "    </tr>\n",
       "    <tr>\n",
       "      <th>E</th>\n",
       "      <td>True</td>\n",
       "      <td>False</td>\n",
       "      <td>True</td>\n",
       "      <td>True</td>\n",
       "    </tr>\n",
       "    <tr>\n",
       "      <th>F</th>\n",
       "      <td>False</td>\n",
       "      <td>False</td>\n",
       "      <td>False</td>\n",
       "      <td>False</td>\n",
       "    </tr>\n",
       "    <tr>\n",
       "      <th>G</th>\n",
       "      <td>True</td>\n",
       "      <td>False</td>\n",
       "      <td>False</td>\n",
       "      <td>False</td>\n",
       "    </tr>\n",
       "    <tr>\n",
       "      <th>H</th>\n",
       "      <td>False</td>\n",
       "      <td>False</td>\n",
       "      <td>False</td>\n",
       "      <td>False</td>\n",
       "    </tr>\n",
       "    <tr>\n",
       "      <th>I</th>\n",
       "      <td>True</td>\n",
       "      <td>False</td>\n",
       "      <td>False</td>\n",
       "      <td>True</td>\n",
       "    </tr>\n",
       "  </tbody>\n",
       "</table>\n",
       "</div>"
      ],
      "text/plain": [
       "   coluna1  coluna2  coluna3  coluna4\n",
       "A    False    False    False    False\n",
       "B     True    False    False    False\n",
       "C    False    False    False    False\n",
       "D     True    False    False    False\n",
       "E     True    False     True     True\n",
       "F    False    False    False    False\n",
       "G     True    False    False    False\n",
       "H    False    False    False    False\n",
       "I     True    False    False     True"
      ]
     },
     "execution_count": 16,
     "metadata": {},
     "output_type": "execute_result"
    }
   ],
   "source": [
    "# Alias do isna\n",
    "df.isnull()"
   ]
  },
  {
   "cell_type": "code",
   "execution_count": 17,
   "metadata": {
    "ExecuteTime": {
     "end_time": "2021-05-29T10:33:31.745593Z",
     "start_time": "2021-05-29T10:33:31.736599Z"
    }
   },
   "outputs": [
    {
     "data": {
      "text/plain": [
       "A    False\n",
       "B     True\n",
       "C    False\n",
       "D     True\n",
       "E     True\n",
       "F    False\n",
       "G     True\n",
       "H    False\n",
       "I     True\n",
       "Name: coluna1, dtype: bool"
      ]
     },
     "execution_count": 17,
     "metadata": {},
     "output_type": "execute_result"
    }
   ],
   "source": [
    "df['coluna1'].isna()"
   ]
  },
  {
   "cell_type": "code",
   "execution_count": 18,
   "metadata": {
    "ExecuteTime": {
     "end_time": "2021-05-29T10:33:38.890443Z",
     "start_time": "2021-05-29T10:33:38.880435Z"
    }
   },
   "outputs": [
    {
     "data": {
      "text/html": [
       "<div>\n",
       "<style scoped>\n",
       "    .dataframe tbody tr th:only-of-type {\n",
       "        vertical-align: middle;\n",
       "    }\n",
       "\n",
       "    .dataframe tbody tr th {\n",
       "        vertical-align: top;\n",
       "    }\n",
       "\n",
       "    .dataframe thead th {\n",
       "        text-align: right;\n",
       "    }\n",
       "</style>\n",
       "<table border=\"1\" class=\"dataframe\">\n",
       "  <thead>\n",
       "    <tr style=\"text-align: right;\">\n",
       "      <th></th>\n",
       "      <th>coluna1</th>\n",
       "      <th>coluna2</th>\n",
       "      <th>coluna3</th>\n",
       "      <th>coluna4</th>\n",
       "    </tr>\n",
       "  </thead>\n",
       "  <tbody>\n",
       "    <tr>\n",
       "      <th>B</th>\n",
       "      <td>NaN</td>\n",
       "      <td>-42.649663</td>\n",
       "      <td>74.92735099424476</td>\n",
       "      <td>52.773876</td>\n",
       "    </tr>\n",
       "    <tr>\n",
       "      <th>D</th>\n",
       "      <td>NaN</td>\n",
       "      <td>4.947469</td>\n",
       "      <td>-46.45375960317058</td>\n",
       "      <td>31.714625</td>\n",
       "    </tr>\n",
       "    <tr>\n",
       "      <th>E</th>\n",
       "      <td>NaN</td>\n",
       "      <td>-57.716214</td>\n",
       "      <td>NaN</td>\n",
       "      <td>NaN</td>\n",
       "    </tr>\n",
       "    <tr>\n",
       "      <th>G</th>\n",
       "      <td>NaN</td>\n",
       "      <td>107.919949</td>\n",
       "      <td>7.009005537783794</td>\n",
       "      <td>-168.252513</td>\n",
       "    </tr>\n",
       "    <tr>\n",
       "      <th>I</th>\n",
       "      <td>NaN</td>\n",
       "      <td>68.195993</td>\n",
       "      <td>-81.73396014687793</td>\n",
       "      <td>NaN</td>\n",
       "    </tr>\n",
       "  </tbody>\n",
       "</table>\n",
       "</div>"
      ],
      "text/plain": [
       "   coluna1     coluna2             coluna3     coluna4\n",
       "B      NaN  -42.649663   74.92735099424476   52.773876\n",
       "D      NaN    4.947469  -46.45375960317058   31.714625\n",
       "E      NaN  -57.716214                 NaN         NaN\n",
       "G      NaN  107.919949   7.009005537783794 -168.252513\n",
       "I      NaN   68.195993  -81.73396014687793         NaN"
      ]
     },
     "execution_count": 18,
     "metadata": {},
     "output_type": "execute_result"
    }
   ],
   "source": [
    "df[df['coluna1'].isna()]"
   ]
  },
  {
   "cell_type": "code",
   "execution_count": 19,
   "metadata": {
    "ExecuteTime": {
     "end_time": "2021-05-29T10:33:49.406523Z",
     "start_time": "2021-05-29T10:33:49.398526Z"
    }
   },
   "outputs": [
    {
     "data": {
      "text/html": [
       "<div>\n",
       "<style scoped>\n",
       "    .dataframe tbody tr th:only-of-type {\n",
       "        vertical-align: middle;\n",
       "    }\n",
       "\n",
       "    .dataframe tbody tr th {\n",
       "        vertical-align: top;\n",
       "    }\n",
       "\n",
       "    .dataframe thead th {\n",
       "        text-align: right;\n",
       "    }\n",
       "</style>\n",
       "<table border=\"1\" class=\"dataframe\">\n",
       "  <thead>\n",
       "    <tr style=\"text-align: right;\">\n",
       "      <th></th>\n",
       "      <th>coluna1</th>\n",
       "      <th>coluna2</th>\n",
       "      <th>coluna3</th>\n",
       "      <th>coluna4</th>\n",
       "    </tr>\n",
       "  </thead>\n",
       "  <tbody>\n",
       "    <tr>\n",
       "      <th>A</th>\n",
       "      <td>37.0</td>\n",
       "      <td>160.426864</td>\n",
       "      <td>26.53495215807759</td>\n",
       "      <td>-63.159268</td>\n",
       "    </tr>\n",
       "    <tr>\n",
       "      <th>C</th>\n",
       "      <td>-75.0</td>\n",
       "      <td>-106.073329</td>\n",
       "      <td>-186.75730263732882</td>\n",
       "      <td>11.964203</td>\n",
       "    </tr>\n",
       "    <tr>\n",
       "      <th>F</th>\n",
       "      <td>17.0</td>\n",
       "      <td>37.262460</td>\n",
       "      <td>104.90992887023529</td>\n",
       "      <td>-139.101149</td>\n",
       "    </tr>\n",
       "    <tr>\n",
       "      <th>H</th>\n",
       "      <td>3.0</td>\n",
       "      <td>44.991648</td>\n",
       "      <td>-3.8906376344036255</td>\n",
       "      <td>-118.851465</td>\n",
       "    </tr>\n",
       "  </tbody>\n",
       "</table>\n",
       "</div>"
      ],
      "text/plain": [
       "   coluna1     coluna2              coluna3     coluna4\n",
       "A     37.0  160.426864    26.53495215807759  -63.159268\n",
       "C    -75.0 -106.073329  -186.75730263732882   11.964203\n",
       "F     17.0   37.262460   104.90992887023529 -139.101149\n",
       "H      3.0   44.991648  -3.8906376344036255 -118.851465"
      ]
     },
     "execution_count": 19,
     "metadata": {},
     "output_type": "execute_result"
    }
   ],
   "source": [
    "df[~df['coluna1'].isna()]"
   ]
  },
  {
   "cell_type": "code",
   "execution_count": 20,
   "metadata": {
    "ExecuteTime": {
     "end_time": "2021-05-29T10:35:24.547767Z",
     "start_time": "2021-05-29T10:35:24.535761Z"
    }
   },
   "outputs": [
    {
     "data": {
      "text/plain": [
       "A    37.0\n",
       "B     NaN\n",
       "C   -75.0\n",
       "D     NaN\n",
       "E     NaN\n",
       "F    17.0\n",
       "G     NaN\n",
       "H     3.0\n",
       "I     NaN\n",
       "Name: coluna1, dtype: float64"
      ]
     },
     "execution_count": 20,
     "metadata": {},
     "output_type": "execute_result"
    }
   ],
   "source": [
    "df['coluna1']"
   ]
  },
  {
   "cell_type": "code",
   "execution_count": 21,
   "metadata": {
    "ExecuteTime": {
     "end_time": "2021-05-29T10:35:44.961583Z",
     "start_time": "2021-05-29T10:35:44.951574Z"
    }
   },
   "outputs": [
    {
     "data": {
      "text/plain": [
       "A    False\n",
       "B     True\n",
       "C    False\n",
       "D     True\n",
       "E     True\n",
       "F    False\n",
       "G     True\n",
       "H    False\n",
       "I     True\n",
       "Name: coluna1, dtype: bool"
      ]
     },
     "execution_count": 21,
     "metadata": {},
     "output_type": "execute_result"
    }
   ],
   "source": [
    "df['coluna1'].isna()"
   ]
  },
  {
   "cell_type": "code",
   "execution_count": 22,
   "metadata": {
    "ExecuteTime": {
     "end_time": "2021-05-29T10:35:18.466672Z",
     "start_time": "2021-05-29T10:35:18.455674Z"
    }
   },
   "outputs": [
    {
     "data": {
      "text/plain": [
       "5"
      ]
     },
     "execution_count": 22,
     "metadata": {},
     "output_type": "execute_result"
    }
   ],
   "source": [
    "df['coluna1'].isna().sum()"
   ]
  },
  {
   "cell_type": "code",
   "execution_count": 23,
   "metadata": {
    "ExecuteTime": {
     "end_time": "2021-05-29T13:38:36.366884Z",
     "start_time": "2021-05-29T13:38:36.345898Z"
    }
   },
   "outputs": [
    {
     "data": {
      "text/plain": [
       "coluna1    5\n",
       "coluna2    0\n",
       "coluna3    1\n",
       "coluna4    2\n",
       "dtype: int64"
      ]
     },
     "execution_count": 23,
     "metadata": {},
     "output_type": "execute_result"
    }
   ],
   "source": [
    "df.isna().sum()"
   ]
  },
  {
   "cell_type": "code",
   "execution_count": 24,
   "metadata": {
    "ExecuteTime": {
     "end_time": "2021-05-29T10:36:46.574041Z",
     "start_time": "2021-05-29T10:36:46.567015Z"
    }
   },
   "outputs": [
    {
     "data": {
      "text/plain": [
       "A    160.426864\n",
       "B    -42.649663\n",
       "C   -106.073329\n",
       "D      4.947469\n",
       "E    -57.716214\n",
       "F     37.262460\n",
       "G    107.919949\n",
       "H     44.991648\n",
       "I     68.195993\n",
       "Name: coluna2, dtype: float64"
      ]
     },
     "execution_count": 24,
     "metadata": {},
     "output_type": "execute_result"
    }
   ],
   "source": [
    "df['coluna2']"
   ]
  },
  {
   "cell_type": "code",
   "execution_count": 25,
   "metadata": {
    "ExecuteTime": {
     "end_time": "2021-05-29T10:36:42.849653Z",
     "start_time": "2021-05-29T10:36:42.839658Z"
    }
   },
   "outputs": [
    {
     "data": {
      "text/plain": [
       "0"
      ]
     },
     "execution_count": 25,
     "metadata": {},
     "output_type": "execute_result"
    }
   ],
   "source": [
    "df['coluna2'].isna().sum()"
   ]
  },
  {
   "cell_type": "code",
   "execution_count": 26,
   "metadata": {
    "ExecuteTime": {
     "end_time": "2021-05-29T14:12:47.717668Z",
     "start_time": "2021-05-29T14:12:47.710684Z"
    }
   },
   "outputs": [
    {
     "data": {
      "text/plain": [
       "coluna1    55.555556\n",
       "coluna2     0.000000\n",
       "coluna3    11.111111\n",
       "coluna4    22.222222\n",
       "dtype: float64"
      ]
     },
     "execution_count": 26,
     "metadata": {},
     "output_type": "execute_result"
    }
   ],
   "source": [
    "percentage = (df.isnull().sum() / len(df)) * 100\n",
    "percentage"
   ]
  },
  {
   "cell_type": "code",
   "execution_count": null,
   "metadata": {},
   "outputs": [],
   "source": []
  },
  {
   "cell_type": "markdown",
   "metadata": {},
   "source": [
    "# 4. Tratando dados ausentes <a name=\"tratando\"></a>\n",
    "<div style=\"text-align: right\"\n",
    "     \n",
    "[Voltar ao índice](#Contents)"
   ]
  },
  {
   "cell_type": "code",
   "execution_count": 27,
   "metadata": {
    "ExecuteTime": {
     "end_time": "2021-05-29T10:41:56.025867Z",
     "start_time": "2021-05-29T10:41:56.013875Z"
    }
   },
   "outputs": [
    {
     "data": {
      "text/plain": [
       "A    37.0\n",
       "B     NaN\n",
       "C   -75.0\n",
       "D     NaN\n",
       "E     NaN\n",
       "F    17.0\n",
       "G     NaN\n",
       "H     3.0\n",
       "I     NaN\n",
       "Name: coluna1, dtype: float64"
      ]
     },
     "execution_count": 27,
     "metadata": {},
     "output_type": "execute_result"
    }
   ],
   "source": [
    "df['coluna1']"
   ]
  },
  {
   "cell_type": "markdown",
   "metadata": {},
   "source": [
    "## Substituindo por 0"
   ]
  },
  {
   "cell_type": "code",
   "execution_count": 28,
   "metadata": {
    "ExecuteTime": {
     "end_time": "2021-05-29T13:12:06.190474Z",
     "start_time": "2021-05-29T13:12:06.172486Z"
    },
    "scrolled": true
   },
   "outputs": [
    {
     "data": {
      "text/plain": [
       "A    37.0\n",
       "B     0.0\n",
       "C   -75.0\n",
       "D     0.0\n",
       "E     0.0\n",
       "F    17.0\n",
       "G     0.0\n",
       "H     3.0\n",
       "I     0.0\n",
       "Name: coluna1, dtype: float64"
      ]
     },
     "execution_count": 28,
     "metadata": {},
     "output_type": "execute_result"
    }
   ],
   "source": [
    "df['coluna1'].fillna(0)"
   ]
  },
  {
   "cell_type": "markdown",
   "metadata": {},
   "source": [
    "## Substituindo pela média"
   ]
  },
  {
   "cell_type": "code",
   "execution_count": 29,
   "metadata": {},
   "outputs": [
    {
     "data": {
      "text/plain": [
       "A    37.0\n",
       "B     NaN\n",
       "C   -75.0\n",
       "D     NaN\n",
       "E     NaN\n",
       "F    17.0\n",
       "G     NaN\n",
       "H     3.0\n",
       "I     NaN\n",
       "Name: coluna1, dtype: float64"
      ]
     },
     "execution_count": 29,
     "metadata": {},
     "output_type": "execute_result"
    }
   ],
   "source": [
    "df['coluna1']"
   ]
  },
  {
   "cell_type": "code",
   "execution_count": 30,
   "metadata": {
    "ExecuteTime": {
     "end_time": "2021-05-29T13:14:24.140037Z",
     "start_time": "2021-05-29T13:14:24.127037Z"
    }
   },
   "outputs": [
    {
     "data": {
      "text/plain": [
       "-15.25"
      ]
     },
     "execution_count": 30,
     "metadata": {},
     "output_type": "execute_result"
    }
   ],
   "source": [
    "(-23.0-132.0+94.0+0)/4"
   ]
  },
  {
   "cell_type": "code",
   "execution_count": 31,
   "metadata": {
    "ExecuteTime": {
     "end_time": "2021-05-29T13:14:25.215007Z",
     "start_time": "2021-05-29T13:14:25.210009Z"
    }
   },
   "outputs": [
    {
     "data": {
      "text/plain": [
       "-4.5"
      ]
     },
     "execution_count": 31,
     "metadata": {},
     "output_type": "execute_result"
    }
   ],
   "source": [
    "df['coluna1'].mean()"
   ]
  },
  {
   "cell_type": "code",
   "execution_count": 32,
   "metadata": {
    "ExecuteTime": {
     "end_time": "2021-05-29T13:19:57.945165Z",
     "start_time": "2021-05-29T13:19:57.932160Z"
    }
   },
   "outputs": [],
   "source": [
    "med_col1 = df['coluna1'].mean()"
   ]
  },
  {
   "cell_type": "code",
   "execution_count": 33,
   "metadata": {
    "ExecuteTime": {
     "end_time": "2021-05-29T13:20:00.068882Z",
     "start_time": "2021-05-29T13:20:00.058887Z"
    }
   },
   "outputs": [
    {
     "data": {
      "text/plain": [
       "A    37.0\n",
       "B    -4.5\n",
       "C   -75.0\n",
       "D    -4.5\n",
       "E    -4.5\n",
       "F    17.0\n",
       "G    -4.5\n",
       "H     3.0\n",
       "I    -4.5\n",
       "Name: coluna1, dtype: float64"
      ]
     },
     "execution_count": 33,
     "metadata": {},
     "output_type": "execute_result"
    }
   ],
   "source": [
    "df['coluna1'].fillna(med_col1)"
   ]
  },
  {
   "cell_type": "markdown",
   "metadata": {},
   "source": [
    "## Substituindo pela mediana"
   ]
  },
  {
   "cell_type": "code",
   "execution_count": 34,
   "metadata": {
    "ExecuteTime": {
     "end_time": "2021-06-06T21:14:45.257459Z",
     "start_time": "2021-06-06T21:14:45.243466Z"
    }
   },
   "outputs": [
    {
     "data": {
      "text/plain": [
       "A    37.0\n",
       "B     NaN\n",
       "C   -75.0\n",
       "D     NaN\n",
       "E     NaN\n",
       "F    17.0\n",
       "G     NaN\n",
       "H     3.0\n",
       "I     NaN\n",
       "Name: coluna1, dtype: float64"
      ]
     },
     "execution_count": 34,
     "metadata": {},
     "output_type": "execute_result"
    }
   ],
   "source": [
    "df['coluna1']"
   ]
  },
  {
   "cell_type": "code",
   "execution_count": 35,
   "metadata": {
    "ExecuteTime": {
     "end_time": "2021-06-06T21:14:56.142307Z",
     "start_time": "2021-06-06T21:14:56.121324Z"
    }
   },
   "outputs": [
    {
     "data": {
      "text/plain": [
       "C   -75.0\n",
       "H     3.0\n",
       "F    17.0\n",
       "A    37.0\n",
       "B     NaN\n",
       "D     NaN\n",
       "E     NaN\n",
       "G     NaN\n",
       "I     NaN\n",
       "Name: coluna1, dtype: float64"
      ]
     },
     "execution_count": 35,
     "metadata": {},
     "output_type": "execute_result"
    }
   ],
   "source": [
    "df['coluna1'].sort_values()"
   ]
  },
  {
   "cell_type": "code",
   "execution_count": 36,
   "metadata": {
    "ExecuteTime": {
     "end_time": "2021-06-06T21:15:32.069094Z",
     "start_time": "2021-06-06T21:15:32.056102Z"
    }
   },
   "outputs": [
    {
     "data": {
      "text/plain": [
       "-55.0"
      ]
     },
     "execution_count": 36,
     "metadata": {},
     "output_type": "execute_result"
    }
   ],
   "source": [
    "(-77-33)/2"
   ]
  },
  {
   "cell_type": "code",
   "execution_count": 37,
   "metadata": {
    "ExecuteTime": {
     "end_time": "2021-06-06T21:15:07.810981Z",
     "start_time": "2021-06-06T21:15:07.801973Z"
    }
   },
   "outputs": [
    {
     "data": {
      "text/plain": [
       "10.0"
      ]
     },
     "execution_count": 37,
     "metadata": {},
     "output_type": "execute_result"
    }
   ],
   "source": [
    "df['coluna1'].median()"
   ]
  },
  {
   "cell_type": "code",
   "execution_count": 38,
   "metadata": {
    "ExecuteTime": {
     "end_time": "2021-06-06T21:15:51.332736Z",
     "start_time": "2021-06-06T21:15:51.324736Z"
    }
   },
   "outputs": [],
   "source": [
    "mediana_col1 = df['coluna1'].median()"
   ]
  },
  {
   "cell_type": "code",
   "execution_count": 39,
   "metadata": {
    "ExecuteTime": {
     "end_time": "2021-06-06T21:15:51.490564Z",
     "start_time": "2021-06-06T21:15:51.483570Z"
    }
   },
   "outputs": [
    {
     "data": {
      "text/plain": [
       "A    37.0\n",
       "B    10.0\n",
       "C   -75.0\n",
       "D    10.0\n",
       "E    10.0\n",
       "F    17.0\n",
       "G    10.0\n",
       "H     3.0\n",
       "I    10.0\n",
       "Name: coluna1, dtype: float64"
      ]
     },
     "execution_count": 39,
     "metadata": {},
     "output_type": "execute_result"
    }
   ],
   "source": [
    "df['coluna1'].fillna(mediana_col1)"
   ]
  },
  {
   "cell_type": "code",
   "execution_count": null,
   "metadata": {},
   "outputs": [],
   "source": []
  },
  {
   "cell_type": "code",
   "execution_count": 40,
   "metadata": {
    "ExecuteTime": {
     "end_time": "2021-05-29T13:20:11.766007Z",
     "start_time": "2021-05-29T13:20:11.745019Z"
    }
   },
   "outputs": [
    {
     "name": "stderr",
     "output_type": "stream",
     "text": [
      "C:\\Users\\hfasa\\AppData\\Local\\Temp\\ipykernel_24068\\110958190.py:1: FutureWarning: Series.fillna with 'method' is deprecated and will raise in a future version. Use obj.ffill() or obj.bfill() instead.\n",
      "  df['coluna1'].fillna(method='ffill')\n"
     ]
    },
    {
     "data": {
      "text/plain": [
       "A    37.0\n",
       "B    37.0\n",
       "C   -75.0\n",
       "D   -75.0\n",
       "E   -75.0\n",
       "F    17.0\n",
       "G    17.0\n",
       "H     3.0\n",
       "I     3.0\n",
       "Name: coluna1, dtype: float64"
      ]
     },
     "execution_count": 40,
     "metadata": {},
     "output_type": "execute_result"
    }
   ],
   "source": [
    "df['coluna1'].fillna(method='ffill')"
   ]
  },
  {
   "cell_type": "code",
   "execution_count": 41,
   "metadata": {
    "ExecuteTime": {
     "end_time": "2021-05-29T13:21:02.649710Z",
     "start_time": "2021-05-29T13:21:02.633720Z"
    }
   },
   "outputs": [
    {
     "data": {
      "text/plain": [
       "A    37.0\n",
       "C   -75.0\n",
       "F    17.0\n",
       "H     3.0\n",
       "Name: coluna1, dtype: float64"
      ]
     },
     "execution_count": 41,
     "metadata": {},
     "output_type": "execute_result"
    }
   ],
   "source": [
    "df['coluna1'].dropna()"
   ]
  },
  {
   "cell_type": "code",
   "execution_count": 42,
   "metadata": {
    "ExecuteTime": {
     "end_time": "2021-05-29T13:24:21.334336Z",
     "start_time": "2021-05-29T13:24:21.322344Z"
    }
   },
   "outputs": [
    {
     "data": {
      "text/html": [
       "<div>\n",
       "<style scoped>\n",
       "    .dataframe tbody tr th:only-of-type {\n",
       "        vertical-align: middle;\n",
       "    }\n",
       "\n",
       "    .dataframe tbody tr th {\n",
       "        vertical-align: top;\n",
       "    }\n",
       "\n",
       "    .dataframe thead th {\n",
       "        text-align: right;\n",
       "    }\n",
       "</style>\n",
       "<table border=\"1\" class=\"dataframe\">\n",
       "  <thead>\n",
       "    <tr style=\"text-align: right;\">\n",
       "      <th></th>\n",
       "      <th>coluna1</th>\n",
       "      <th>coluna2</th>\n",
       "      <th>coluna3</th>\n",
       "      <th>coluna4</th>\n",
       "    </tr>\n",
       "  </thead>\n",
       "  <tbody>\n",
       "    <tr>\n",
       "      <th>A</th>\n",
       "      <td>37.0</td>\n",
       "      <td>160.426864</td>\n",
       "      <td>26.53495215807759</td>\n",
       "      <td>-63.159268</td>\n",
       "    </tr>\n",
       "    <tr>\n",
       "      <th>C</th>\n",
       "      <td>-75.0</td>\n",
       "      <td>-106.073329</td>\n",
       "      <td>-186.75730263732882</td>\n",
       "      <td>11.964203</td>\n",
       "    </tr>\n",
       "    <tr>\n",
       "      <th>F</th>\n",
       "      <td>17.0</td>\n",
       "      <td>37.262460</td>\n",
       "      <td>104.90992887023529</td>\n",
       "      <td>-139.101149</td>\n",
       "    </tr>\n",
       "    <tr>\n",
       "      <th>H</th>\n",
       "      <td>3.0</td>\n",
       "      <td>44.991648</td>\n",
       "      <td>-3.8906376344036255</td>\n",
       "      <td>-118.851465</td>\n",
       "    </tr>\n",
       "  </tbody>\n",
       "</table>\n",
       "</div>"
      ],
      "text/plain": [
       "   coluna1     coluna2              coluna3     coluna4\n",
       "A     37.0  160.426864    26.53495215807759  -63.159268\n",
       "C    -75.0 -106.073329  -186.75730263732882   11.964203\n",
       "F     17.0   37.262460   104.90992887023529 -139.101149\n",
       "H      3.0   44.991648  -3.8906376344036255 -118.851465"
      ]
     },
     "execution_count": 42,
     "metadata": {},
     "output_type": "execute_result"
    }
   ],
   "source": [
    "# dropar todas as linhas que tenha pelo menos 1 NA\n",
    "df.dropna()"
   ]
  },
  {
   "cell_type": "markdown",
   "metadata": {},
   "source": [
    "# 5. Dados duplicados <a name=\"duplicados\"></a>\n",
    "<div style=\"text-align: right\"\n",
    "     \n",
    "[Voltar ao índice](#Contents)"
   ]
  },
  {
   "cell_type": "code",
   "execution_count": 84,
   "metadata": {
    "ExecuteTime": {
     "end_time": "2021-05-29T13:27:46.263931Z",
     "start_time": "2021-05-29T13:27:46.244941Z"
    }
   },
   "outputs": [
    {
     "data": {
      "text/html": [
       "<div>\n",
       "<style scoped>\n",
       "    .dataframe tbody tr th:only-of-type {\n",
       "        vertical-align: middle;\n",
       "    }\n",
       "\n",
       "    .dataframe tbody tr th {\n",
       "        vertical-align: top;\n",
       "    }\n",
       "\n",
       "    .dataframe thead th {\n",
       "        text-align: right;\n",
       "    }\n",
       "</style>\n",
       "<table border=\"1\" class=\"dataframe\">\n",
       "  <thead>\n",
       "    <tr style=\"text-align: right;\">\n",
       "      <th></th>\n",
       "      <th>coluna1</th>\n",
       "      <th>coluna2</th>\n",
       "      <th>coluna3</th>\n",
       "      <th>coluna4</th>\n",
       "    </tr>\n",
       "  </thead>\n",
       "  <tbody>\n",
       "    <tr>\n",
       "      <th>A</th>\n",
       "      <td>37.0</td>\n",
       "      <td>160.426864</td>\n",
       "      <td>26.53495215807759</td>\n",
       "      <td>-63.159268</td>\n",
       "    </tr>\n",
       "    <tr>\n",
       "      <th>B</th>\n",
       "      <td>NaN</td>\n",
       "      <td>-42.649663</td>\n",
       "      <td>74.92735099424476</td>\n",
       "      <td>52.773876</td>\n",
       "    </tr>\n",
       "    <tr>\n",
       "      <th>C</th>\n",
       "      <td>-75.0</td>\n",
       "      <td>-106.073329</td>\n",
       "      <td>-186.75730263732882</td>\n",
       "      <td>11.964203</td>\n",
       "    </tr>\n",
       "    <tr>\n",
       "      <th>D</th>\n",
       "      <td>NaN</td>\n",
       "      <td>4.947469</td>\n",
       "      <td>-46.45375960317058</td>\n",
       "      <td>31.714625</td>\n",
       "    </tr>\n",
       "    <tr>\n",
       "      <th>D</th>\n",
       "      <td>NaN</td>\n",
       "      <td>4.947469</td>\n",
       "      <td>-46.45375960317058</td>\n",
       "      <td>31.714625</td>\n",
       "    </tr>\n",
       "    <tr>\n",
       "      <th>E</th>\n",
       "      <td>NaN</td>\n",
       "      <td>-57.716214</td>\n",
       "      <td>NaN</td>\n",
       "      <td>NaN</td>\n",
       "    </tr>\n",
       "    <tr>\n",
       "      <th>E</th>\n",
       "      <td>NaN</td>\n",
       "      <td>-57.716214</td>\n",
       "      <td>NaN</td>\n",
       "      <td>NaN</td>\n",
       "    </tr>\n",
       "    <tr>\n",
       "      <th>F</th>\n",
       "      <td>17.0</td>\n",
       "      <td>37.262460</td>\n",
       "      <td>104.90992887023529</td>\n",
       "      <td>-139.101149</td>\n",
       "    </tr>\n",
       "    <tr>\n",
       "      <th>F</th>\n",
       "      <td>17.0</td>\n",
       "      <td>37.262460</td>\n",
       "      <td>104.90992887023529</td>\n",
       "      <td>-139.101149</td>\n",
       "    </tr>\n",
       "    <tr>\n",
       "      <th>G</th>\n",
       "      <td>NaN</td>\n",
       "      <td>107.919949</td>\n",
       "      <td>7.009005537783794</td>\n",
       "      <td>-168.252513</td>\n",
       "    </tr>\n",
       "    <tr>\n",
       "      <th>G</th>\n",
       "      <td>NaN</td>\n",
       "      <td>107.919949</td>\n",
       "      <td>7.009005537783794</td>\n",
       "      <td>-168.252513</td>\n",
       "    </tr>\n",
       "    <tr>\n",
       "      <th>H</th>\n",
       "      <td>3.0</td>\n",
       "      <td>44.991648</td>\n",
       "      <td>-3.8906376344036255</td>\n",
       "      <td>-118.851465</td>\n",
       "    </tr>\n",
       "    <tr>\n",
       "      <th>H</th>\n",
       "      <td>3.0</td>\n",
       "      <td>44.991648</td>\n",
       "      <td>-3.8906376344036255</td>\n",
       "      <td>-118.851465</td>\n",
       "    </tr>\n",
       "    <tr>\n",
       "      <th>I</th>\n",
       "      <td>NaN</td>\n",
       "      <td>68.195993</td>\n",
       "      <td>-81.73396014687793</td>\n",
       "      <td>NaN</td>\n",
       "    </tr>\n",
       "  </tbody>\n",
       "</table>\n",
       "</div>"
      ],
      "text/plain": [
       "   coluna1     coluna2              coluna3     coluna4\n",
       "A     37.0  160.426864    26.53495215807759  -63.159268\n",
       "B      NaN  -42.649663    74.92735099424476   52.773876\n",
       "C    -75.0 -106.073329  -186.75730263732882   11.964203\n",
       "D      NaN    4.947469   -46.45375960317058   31.714625\n",
       "D      NaN    4.947469   -46.45375960317058   31.714625\n",
       "E      NaN  -57.716214                  NaN         NaN\n",
       "E      NaN  -57.716214                  NaN         NaN\n",
       "F     17.0   37.262460   104.90992887023529 -139.101149\n",
       "F     17.0   37.262460   104.90992887023529 -139.101149\n",
       "G      NaN  107.919949    7.009005537783794 -168.252513\n",
       "G      NaN  107.919949    7.009005537783794 -168.252513\n",
       "H      3.0   44.991648  -3.8906376344036255 -118.851465\n",
       "H      3.0   44.991648  -3.8906376344036255 -118.851465\n",
       "I      NaN   68.195993   -81.73396014687793         NaN"
      ]
     },
     "execution_count": 84,
     "metadata": {},
     "output_type": "execute_result"
    }
   ],
   "source": [
    "df_dup = pd.concat([df, df.loc['D':'H']], axis=0).sort_index()\n",
    "df_dup"
   ]
  },
  {
   "cell_type": "code",
   "execution_count": 139,
   "metadata": {
    "ExecuteTime": {
     "end_time": "2021-05-29T13:30:40.658624Z",
     "start_time": "2021-05-29T13:30:40.642623Z"
    }
   },
   "outputs": [
    {
     "data": {
      "text/html": [
       "<div>\n",
       "<style scoped>\n",
       "    .dataframe tbody tr th:only-of-type {\n",
       "        vertical-align: middle;\n",
       "    }\n",
       "\n",
       "    .dataframe tbody tr th {\n",
       "        vertical-align: top;\n",
       "    }\n",
       "\n",
       "    .dataframe thead th {\n",
       "        text-align: right;\n",
       "    }\n",
       "</style>\n",
       "<table border=\"1\" class=\"dataframe\">\n",
       "  <thead>\n",
       "    <tr style=\"text-align: right;\">\n",
       "      <th></th>\n",
       "      <th>coluna1</th>\n",
       "      <th>coluna2</th>\n",
       "      <th>coluna3</th>\n",
       "      <th>coluna4</th>\n",
       "    </tr>\n",
       "  </thead>\n",
       "  <tbody>\n",
       "    <tr>\n",
       "      <th>A</th>\n",
       "      <td>-23.0</td>\n",
       "      <td>-29.152840</td>\n",
       "      <td>-104.97703793385477</td>\n",
       "      <td>185.956438</td>\n",
       "    </tr>\n",
       "    <tr>\n",
       "      <th>B</th>\n",
       "      <td>NaN</td>\n",
       "      <td>98.455629</td>\n",
       "      <td>-56.63918289481432</td>\n",
       "      <td>137.164956</td>\n",
       "    </tr>\n",
       "    <tr>\n",
       "      <th>C</th>\n",
       "      <td>0.0</td>\n",
       "      <td>-23.929166</td>\n",
       "      <td>200.88491360300534</td>\n",
       "      <td>1.188890</td>\n",
       "    </tr>\n",
       "    <tr>\n",
       "      <th>D</th>\n",
       "      <td>NaN</td>\n",
       "      <td>-21.026139</td>\n",
       "      <td>-27.933020884056358</td>\n",
       "      <td>87.437026</td>\n",
       "    </tr>\n",
       "    <tr>\n",
       "      <th>E</th>\n",
       "      <td>NaN</td>\n",
       "      <td>192.406008</td>\n",
       "      <td>NaN</td>\n",
       "      <td>NaN</td>\n",
       "    </tr>\n",
       "    <tr>\n",
       "      <th>F</th>\n",
       "      <td>-132.0</td>\n",
       "      <td>27.891742</td>\n",
       "      <td>-146.61819382562678</td>\n",
       "      <td>69.352880</td>\n",
       "    </tr>\n",
       "    <tr>\n",
       "      <th>G</th>\n",
       "      <td>NaN</td>\n",
       "      <td>-96.661886</td>\n",
       "      <td>8.047981030796791</td>\n",
       "      <td>148.596987</td>\n",
       "    </tr>\n",
       "    <tr>\n",
       "      <th>H</th>\n",
       "      <td>94.0</td>\n",
       "      <td>-63.401987</td>\n",
       "      <td>-26.482816708266604</td>\n",
       "      <td>-80.205045</td>\n",
       "    </tr>\n",
       "    <tr>\n",
       "      <th>I</th>\n",
       "      <td>NaN</td>\n",
       "      <td>-131.551463</td>\n",
       "      <td>131.37483723481265</td>\n",
       "      <td>NaN</td>\n",
       "    </tr>\n",
       "  </tbody>\n",
       "</table>\n",
       "</div>"
      ],
      "text/plain": [
       "   coluna1     coluna2              coluna3     coluna4\n",
       "A    -23.0  -29.152840  -104.97703793385477  185.956438\n",
       "B      NaN   98.455629   -56.63918289481432  137.164956\n",
       "C      0.0  -23.929166   200.88491360300534    1.188890\n",
       "D      NaN  -21.026139  -27.933020884056358   87.437026\n",
       "E      NaN  192.406008                  NaN         NaN\n",
       "F   -132.0   27.891742  -146.61819382562678   69.352880\n",
       "G      NaN  -96.661886    8.047981030796791  148.596987\n",
       "H     94.0  -63.401987  -26.482816708266604  -80.205045\n",
       "I      NaN -131.551463   131.37483723481265         NaN"
      ]
     },
     "execution_count": 139,
     "metadata": {},
     "output_type": "execute_result"
    }
   ],
   "source": [
    "df_dup.drop_duplicates()"
   ]
  },
  {
   "cell_type": "code",
   "execution_count": 138,
   "metadata": {
    "ExecuteTime": {
     "end_time": "2021-05-29T13:30:33.567549Z",
     "start_time": "2021-05-29T13:30:33.544582Z"
    }
   },
   "outputs": [
    {
     "data": {
      "text/html": [
       "<div>\n",
       "<style scoped>\n",
       "    .dataframe tbody tr th:only-of-type {\n",
       "        vertical-align: middle;\n",
       "    }\n",
       "\n",
       "    .dataframe tbody tr th {\n",
       "        vertical-align: top;\n",
       "    }\n",
       "\n",
       "    .dataframe thead th {\n",
       "        text-align: right;\n",
       "    }\n",
       "</style>\n",
       "<table border=\"1\" class=\"dataframe\">\n",
       "  <thead>\n",
       "    <tr style=\"text-align: right;\">\n",
       "      <th></th>\n",
       "      <th>coluna1</th>\n",
       "      <th>coluna2</th>\n",
       "      <th>coluna3</th>\n",
       "      <th>coluna4</th>\n",
       "    </tr>\n",
       "  </thead>\n",
       "  <tbody>\n",
       "    <tr>\n",
       "      <th>A</th>\n",
       "      <td>-23.0</td>\n",
       "      <td>-29.152840</td>\n",
       "      <td>-104.97703793385477</td>\n",
       "      <td>185.956438</td>\n",
       "    </tr>\n",
       "    <tr>\n",
       "      <th>B</th>\n",
       "      <td>NaN</td>\n",
       "      <td>98.455629</td>\n",
       "      <td>-56.63918289481432</td>\n",
       "      <td>137.164956</td>\n",
       "    </tr>\n",
       "    <tr>\n",
       "      <th>C</th>\n",
       "      <td>0.0</td>\n",
       "      <td>-23.929166</td>\n",
       "      <td>200.88491360300534</td>\n",
       "      <td>1.188890</td>\n",
       "    </tr>\n",
       "    <tr>\n",
       "      <th>F</th>\n",
       "      <td>-132.0</td>\n",
       "      <td>27.891742</td>\n",
       "      <td>-146.61819382562678</td>\n",
       "      <td>69.352880</td>\n",
       "    </tr>\n",
       "    <tr>\n",
       "      <th>H</th>\n",
       "      <td>94.0</td>\n",
       "      <td>-63.401987</td>\n",
       "      <td>-26.482816708266604</td>\n",
       "      <td>-80.205045</td>\n",
       "    </tr>\n",
       "  </tbody>\n",
       "</table>\n",
       "</div>"
      ],
      "text/plain": [
       "   coluna1    coluna2              coluna3     coluna4\n",
       "A    -23.0 -29.152840  -104.97703793385477  185.956438\n",
       "B      NaN  98.455629   -56.63918289481432  137.164956\n",
       "C      0.0 -23.929166   200.88491360300534    1.188890\n",
       "F   -132.0  27.891742  -146.61819382562678   69.352880\n",
       "H     94.0 -63.401987  -26.482816708266604  -80.205045"
      ]
     },
     "execution_count": 138,
     "metadata": {},
     "output_type": "execute_result"
    }
   ],
   "source": [
    "df_dup.drop_duplicates(subset=['coluna1'])"
   ]
  },
  {
   "cell_type": "code",
   "execution_count": 142,
   "metadata": {
    "ExecuteTime": {
     "end_time": "2021-05-29T13:32:13.123617Z",
     "start_time": "2021-05-29T13:32:13.105619Z"
    }
   },
   "outputs": [
    {
     "data": {
      "text/plain": [
       "A    False\n",
       "B    False\n",
       "C    False\n",
       "D    False\n",
       "D     True\n",
       "E    False\n",
       "E     True\n",
       "F    False\n",
       "F     True\n",
       "G    False\n",
       "G     True\n",
       "H    False\n",
       "H     True\n",
       "I    False\n",
       "dtype: bool"
      ]
     },
     "execution_count": 142,
     "metadata": {},
     "output_type": "execute_result"
    }
   ],
   "source": [
    "df_dup.duplicated()"
   ]
  },
  {
   "cell_type": "code",
   "execution_count": 141,
   "metadata": {
    "ExecuteTime": {
     "end_time": "2021-05-29T13:31:30.812257Z",
     "start_time": "2021-05-29T13:31:30.799265Z"
    }
   },
   "outputs": [
    {
     "data": {
      "text/html": [
       "<div>\n",
       "<style scoped>\n",
       "    .dataframe tbody tr th:only-of-type {\n",
       "        vertical-align: middle;\n",
       "    }\n",
       "\n",
       "    .dataframe tbody tr th {\n",
       "        vertical-align: top;\n",
       "    }\n",
       "\n",
       "    .dataframe thead th {\n",
       "        text-align: right;\n",
       "    }\n",
       "</style>\n",
       "<table border=\"1\" class=\"dataframe\">\n",
       "  <thead>\n",
       "    <tr style=\"text-align: right;\">\n",
       "      <th></th>\n",
       "      <th>coluna1</th>\n",
       "      <th>coluna2</th>\n",
       "      <th>coluna3</th>\n",
       "      <th>coluna4</th>\n",
       "    </tr>\n",
       "  </thead>\n",
       "  <tbody>\n",
       "    <tr>\n",
       "      <th>D</th>\n",
       "      <td>NaN</td>\n",
       "      <td>-21.026139</td>\n",
       "      <td>-27.933020884056358</td>\n",
       "      <td>87.437026</td>\n",
       "    </tr>\n",
       "    <tr>\n",
       "      <th>E</th>\n",
       "      <td>NaN</td>\n",
       "      <td>192.406008</td>\n",
       "      <td>NaN</td>\n",
       "      <td>NaN</td>\n",
       "    </tr>\n",
       "    <tr>\n",
       "      <th>F</th>\n",
       "      <td>-132.0</td>\n",
       "      <td>27.891742</td>\n",
       "      <td>-146.61819382562678</td>\n",
       "      <td>69.352880</td>\n",
       "    </tr>\n",
       "    <tr>\n",
       "      <th>G</th>\n",
       "      <td>NaN</td>\n",
       "      <td>-96.661886</td>\n",
       "      <td>8.047981030796791</td>\n",
       "      <td>148.596987</td>\n",
       "    </tr>\n",
       "    <tr>\n",
       "      <th>H</th>\n",
       "      <td>94.0</td>\n",
       "      <td>-63.401987</td>\n",
       "      <td>-26.482816708266604</td>\n",
       "      <td>-80.205045</td>\n",
       "    </tr>\n",
       "  </tbody>\n",
       "</table>\n",
       "</div>"
      ],
      "text/plain": [
       "   coluna1     coluna2              coluna3     coluna4\n",
       "D      NaN  -21.026139  -27.933020884056358   87.437026\n",
       "E      NaN  192.406008                  NaN         NaN\n",
       "F   -132.0   27.891742  -146.61819382562678   69.352880\n",
       "G      NaN  -96.661886    8.047981030796791  148.596987\n",
       "H     94.0  -63.401987  -26.482816708266604  -80.205045"
      ]
     },
     "execution_count": 141,
     "metadata": {},
     "output_type": "execute_result"
    }
   ],
   "source": [
    "df_dup[df_dup.duplicated()]"
   ]
  },
  {
   "cell_type": "markdown",
   "metadata": {},
   "source": [
    "# 6. Mapeamentos <a name=\"map\"></a>\n",
    "<div style=\"text-align: right\"\n",
    "     \n",
    "[Voltar ao índice](#Contents)"
   ]
  },
  {
   "cell_type": "code",
   "execution_count": 145,
   "metadata": {
    "ExecuteTime": {
     "end_time": "2021-05-29T13:42:45.956899Z",
     "start_time": "2021-05-29T13:42:45.942908Z"
    }
   },
   "outputs": [
    {
     "data": {
      "text/plain": [
       "0     1\n",
       "1     0\n",
       "2     1\n",
       "3     1\n",
       "4     1\n",
       "5     1\n",
       "6     0\n",
       "7     0\n",
       "8     0\n",
       "9     1\n",
       "10    1\n",
       "11    0\n",
       "dtype: int64"
      ]
     },
     "execution_count": 145,
     "metadata": {},
     "output_type": "execute_result"
    }
   ],
   "source": [
    "# 1 feminino, 0 masculino\n",
    "genero = pd.Series([1,0,1,1,1,1,0,0,0,1,1,0])\n",
    "genero"
   ]
  },
  {
   "cell_type": "code",
   "execution_count": 146,
   "metadata": {
    "ExecuteTime": {
     "end_time": "2021-05-29T14:05:13.576793Z",
     "start_time": "2021-05-29T14:05:13.554796Z"
    }
   },
   "outputs": [
    {
     "data": {
      "text/plain": [
       "0      Feminino\n",
       "1     Masculino\n",
       "2      Feminino\n",
       "3      Feminino\n",
       "4      Feminino\n",
       "5      Feminino\n",
       "6     Masculino\n",
       "7     Masculino\n",
       "8     Masculino\n",
       "9      Feminino\n",
       "10     Feminino\n",
       "11    Masculino\n",
       "dtype: object"
      ]
     },
     "execution_count": 146,
     "metadata": {},
     "output_type": "execute_result"
    }
   ],
   "source": [
    "genero.map({1:'Feminino', 0:'Masculino'})"
   ]
  },
  {
   "cell_type": "code",
   "execution_count": 152,
   "metadata": {
    "ExecuteTime": {
     "end_time": "2021-05-29T14:08:05.814253Z",
     "start_time": "2021-05-29T14:08:05.801261Z"
    }
   },
   "outputs": [],
   "source": [
    "genero_2 = genero.map({1:'Feminino', 0:'Masculino'})"
   ]
  },
  {
   "cell_type": "code",
   "execution_count": 147,
   "metadata": {
    "ExecuteTime": {
     "end_time": "2021-05-29T14:05:34.230006Z",
     "start_time": "2021-05-29T14:05:34.210016Z"
    }
   },
   "outputs": [
    {
     "data": {
      "text/plain": [
       "0     Feminino\n",
       "1          NaN\n",
       "2     Feminino\n",
       "3     Feminino\n",
       "4     Feminino\n",
       "5     Feminino\n",
       "6          NaN\n",
       "7          NaN\n",
       "8          NaN\n",
       "9     Feminino\n",
       "10    Feminino\n",
       "11         NaN\n",
       "dtype: object"
      ]
     },
     "execution_count": 147,
     "metadata": {},
     "output_type": "execute_result"
    }
   ],
   "source": [
    "genero.map({1:'Feminino', 2:'Masculino'})"
   ]
  },
  {
   "cell_type": "code",
   "execution_count": 153,
   "metadata": {
    "ExecuteTime": {
     "end_time": "2021-05-29T14:08:11.654002Z",
     "start_time": "2021-05-29T14:08:11.637012Z"
    }
   },
   "outputs": [
    {
     "data": {
      "text/plain": [
       "0      Genero: Feminino\n",
       "1     Genero: Masculino\n",
       "2      Genero: Feminino\n",
       "3      Genero: Feminino\n",
       "4      Genero: Feminino\n",
       "5      Genero: Feminino\n",
       "6     Genero: Masculino\n",
       "7     Genero: Masculino\n",
       "8     Genero: Masculino\n",
       "9      Genero: Feminino\n",
       "10     Genero: Feminino\n",
       "11    Genero: Masculino\n",
       "dtype: object"
      ]
     },
     "execution_count": 153,
     "metadata": {},
     "output_type": "execute_result"
    }
   ],
   "source": [
    "genero_2.map('Genero: {}'.format)"
   ]
  },
  {
   "cell_type": "code",
   "execution_count": null,
   "metadata": {},
   "outputs": [],
   "source": []
  },
  {
   "cell_type": "code",
   "execution_count": null,
   "metadata": {},
   "outputs": [],
   "source": []
  },
  {
   "cell_type": "code",
   "execution_count": null,
   "metadata": {},
   "outputs": [],
   "source": []
  },
  {
   "cell_type": "code",
   "execution_count": null,
   "metadata": {},
   "outputs": [],
   "source": []
  },
  {
   "cell_type": "code",
   "execution_count": null,
   "metadata": {},
   "outputs": [],
   "source": []
  },
  {
   "cell_type": "code",
   "execution_count": null,
   "metadata": {},
   "outputs": [],
   "source": []
  },
  {
   "cell_type": "code",
   "execution_count": null,
   "metadata": {},
   "outputs": [],
   "source": []
  }
 ],
 "metadata": {
  "kernelspec": {
   "display_name": "Python 3",
   "language": "python",
   "name": "python3"
  },
  "language_info": {
   "codemirror_mode": {
    "name": "ipython",
    "version": 3
   },
   "file_extension": ".py",
   "mimetype": "text/x-python",
   "name": "python",
   "nbconvert_exporter": "python",
   "pygments_lexer": "ipython3",
   "version": "3.12.4"
  },
  "varInspector": {
   "cols": {
    "lenName": 16,
    "lenType": 16,
    "lenVar": 40
   },
   "kernels_config": {
    "python": {
     "delete_cmd_postfix": "",
     "delete_cmd_prefix": "del ",
     "library": "var_list.py",
     "varRefreshCmd": "print(var_dic_list())"
    },
    "r": {
     "delete_cmd_postfix": ") ",
     "delete_cmd_prefix": "rm(",
     "library": "var_list.r",
     "varRefreshCmd": "cat(var_dic_list()) "
    }
   },
   "types_to_exclude": [
    "module",
    "function",
    "builtin_function_or_method",
    "instance",
    "_Feature"
   ],
   "window_display": false
  }
 },
 "nbformat": 4,
 "nbformat_minor": 4
}

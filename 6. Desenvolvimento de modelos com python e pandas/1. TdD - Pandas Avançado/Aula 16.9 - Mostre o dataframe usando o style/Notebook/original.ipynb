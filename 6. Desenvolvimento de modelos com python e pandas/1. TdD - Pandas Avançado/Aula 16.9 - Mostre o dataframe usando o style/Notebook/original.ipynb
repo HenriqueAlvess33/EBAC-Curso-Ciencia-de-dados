{
 "cells": [
  {
   "cell_type": "markdown",
   "metadata": {},
   "source": [
    "- *Method chaining* (encadeamento de métodos)\n",
    "\t- `.assign()`\n",
    "\t- `.pipe()`\n",
    "- `for` vs *List comprehension*\n",
    "- Usando `.apply()`\n",
    "- `.apply(axis = 0)`\n",
    "- Barra de progresso usando `tqdm` \n",
    "- Pandas Profiling para exploração dos dados e para garantir a qualidade dos dados\n",
    "- __Mostrar o dataframe usando o `style`__\n",
    "- Copiar e colar no Excel `.to_clipboard()`\n",
    "- Funções de janela móvel (*window functions*)\n",
    "- Fechamento 2o projeto"
   ]
  },
  {
   "cell_type": "markdown",
   "metadata": {},
   "source": [
    "# Mostrar o dataframe usando o `style`"
   ]
  },
  {
   "cell_type": "code",
   "execution_count": 12,
   "metadata": {},
   "outputs": [],
   "source": [
    "import pandas as pd\n",
    "import statsmodels.api as sm\n",
    "from sklearn.ensemble import RandomForestClassifier "
   ]
  },
  {
   "cell_type": "code",
   "execution_count": 13,
   "metadata": {},
   "outputs": [
    {
     "data": {
      "text/html": [
       "<div>\n",
       "<style scoped>\n",
       "    .dataframe tbody tr th:only-of-type {\n",
       "        vertical-align: middle;\n",
       "    }\n",
       "\n",
       "    .dataframe tbody tr th {\n",
       "        vertical-align: top;\n",
       "    }\n",
       "\n",
       "    .dataframe thead th {\n",
       "        text-align: right;\n",
       "    }\n",
       "</style>\n",
       "<table border=\"1\" class=\"dataframe\">\n",
       "  <thead>\n",
       "    <tr style=\"text-align: right;\">\n",
       "      <th></th>\n",
       "      <th>sexo</th>\n",
       "      <th>posse_de_veiculo</th>\n",
       "      <th>posse_de_imovel</th>\n",
       "      <th>qtd_filhos</th>\n",
       "      <th>tipo_renda</th>\n",
       "      <th>educacao</th>\n",
       "      <th>estado_civil</th>\n",
       "      <th>tipo_residencia</th>\n",
       "      <th>idade</th>\n",
       "      <th>tempo_emprego</th>\n",
       "      <th>possui_celular</th>\n",
       "      <th>possui_fone_comercial</th>\n",
       "      <th>possui_fone</th>\n",
       "      <th>possui_email</th>\n",
       "      <th>qt_pessoas_residencia</th>\n",
       "      <th>mau</th>\n",
       "    </tr>\n",
       "  </thead>\n",
       "  <tbody>\n",
       "    <tr>\n",
       "      <th>0</th>\n",
       "      <td>M</td>\n",
       "      <td>Y</td>\n",
       "      <td>Y</td>\n",
       "      <td>0</td>\n",
       "      <td>Working</td>\n",
       "      <td>Secondary / secondary special</td>\n",
       "      <td>Married</td>\n",
       "      <td>House / apartment</td>\n",
       "      <td>58.832877</td>\n",
       "      <td>3.106849</td>\n",
       "      <td>1</td>\n",
       "      <td>0</td>\n",
       "      <td>0</td>\n",
       "      <td>0</td>\n",
       "      <td>2.0</td>\n",
       "      <td>False</td>\n",
       "    </tr>\n",
       "    <tr>\n",
       "      <th>1</th>\n",
       "      <td>F</td>\n",
       "      <td>N</td>\n",
       "      <td>Y</td>\n",
       "      <td>0</td>\n",
       "      <td>Commercial associate</td>\n",
       "      <td>Secondary / secondary special</td>\n",
       "      <td>Single / not married</td>\n",
       "      <td>House / apartment</td>\n",
       "      <td>52.356164</td>\n",
       "      <td>8.358904</td>\n",
       "      <td>1</td>\n",
       "      <td>0</td>\n",
       "      <td>1</td>\n",
       "      <td>1</td>\n",
       "      <td>1.0</td>\n",
       "      <td>False</td>\n",
       "    </tr>\n",
       "    <tr>\n",
       "      <th>2</th>\n",
       "      <td>F</td>\n",
       "      <td>N</td>\n",
       "      <td>Y</td>\n",
       "      <td>0</td>\n",
       "      <td>Commercial associate</td>\n",
       "      <td>Secondary / secondary special</td>\n",
       "      <td>Single / not married</td>\n",
       "      <td>House / apartment</td>\n",
       "      <td>52.356164</td>\n",
       "      <td>8.358904</td>\n",
       "      <td>1</td>\n",
       "      <td>0</td>\n",
       "      <td>1</td>\n",
       "      <td>1</td>\n",
       "      <td>1.0</td>\n",
       "      <td>False</td>\n",
       "    </tr>\n",
       "    <tr>\n",
       "      <th>3</th>\n",
       "      <td>M</td>\n",
       "      <td>Y</td>\n",
       "      <td>Y</td>\n",
       "      <td>0</td>\n",
       "      <td>Working</td>\n",
       "      <td>Higher education</td>\n",
       "      <td>Married</td>\n",
       "      <td>House / apartment</td>\n",
       "      <td>46.224658</td>\n",
       "      <td>2.106849</td>\n",
       "      <td>1</td>\n",
       "      <td>1</td>\n",
       "      <td>1</td>\n",
       "      <td>1</td>\n",
       "      <td>2.0</td>\n",
       "      <td>False</td>\n",
       "    </tr>\n",
       "    <tr>\n",
       "      <th>4</th>\n",
       "      <td>F</td>\n",
       "      <td>Y</td>\n",
       "      <td>N</td>\n",
       "      <td>0</td>\n",
       "      <td>Working</td>\n",
       "      <td>Incomplete higher</td>\n",
       "      <td>Married</td>\n",
       "      <td>House / apartment</td>\n",
       "      <td>29.230137</td>\n",
       "      <td>3.021918</td>\n",
       "      <td>1</td>\n",
       "      <td>0</td>\n",
       "      <td>0</td>\n",
       "      <td>0</td>\n",
       "      <td>2.0</td>\n",
       "      <td>False</td>\n",
       "    </tr>\n",
       "  </tbody>\n",
       "</table>\n",
       "</div>"
      ],
      "text/plain": [
       "  sexo posse_de_veiculo posse_de_imovel  qtd_filhos            tipo_renda  \\\n",
       "0    M                Y               Y           0               Working   \n",
       "1    F                N               Y           0  Commercial associate   \n",
       "2    F                N               Y           0  Commercial associate   \n",
       "3    M                Y               Y           0               Working   \n",
       "4    F                Y               N           0               Working   \n",
       "\n",
       "                        educacao          estado_civil    tipo_residencia  \\\n",
       "0  Secondary / secondary special               Married  House / apartment   \n",
       "1  Secondary / secondary special  Single / not married  House / apartment   \n",
       "2  Secondary / secondary special  Single / not married  House / apartment   \n",
       "3               Higher education               Married  House / apartment   \n",
       "4              Incomplete higher               Married  House / apartment   \n",
       "\n",
       "       idade  tempo_emprego  possui_celular  possui_fone_comercial  \\\n",
       "0  58.832877       3.106849               1                      0   \n",
       "1  52.356164       8.358904               1                      0   \n",
       "2  52.356164       8.358904               1                      0   \n",
       "3  46.224658       2.106849               1                      1   \n",
       "4  29.230137       3.021918               1                      0   \n",
       "\n",
       "   possui_fone  possui_email  qt_pessoas_residencia    mau  \n",
       "0            0             0                    2.0  False  \n",
       "1            1             1                    1.0  False  \n",
       "2            1             1                    1.0  False  \n",
       "3            1             1                    2.0  False  \n",
       "4            0             0                    2.0  False  "
      ]
     },
     "execution_count": 13,
     "metadata": {},
     "output_type": "execute_result"
    }
   ],
   "source": [
    "df = pd.read_csv('./input/dados.csv')\n",
    "df.head()"
   ]
  },
  {
   "cell_type": "code",
   "execution_count": 14,
   "metadata": {},
   "outputs": [
    {
     "data": {
      "text/plain": [
       "<property at 0x1b678667920>"
      ]
     },
     "execution_count": 14,
     "metadata": {},
     "output_type": "execute_result"
    }
   ],
   "source": [
    "rf.feature_importances_"
   ]
  },
  {
   "cell_type": "code",
   "execution_count": 15,
   "metadata": {},
   "outputs": [
    {
     "name": "stdout",
     "output_type": "stream",
     "text": [
      "Optimization terminated successfully.\n",
      "         Current function value: 0.112400\n",
      "         Iterations 8\n"
     ]
    }
   ],
   "source": [
    "cols = [\n",
    "    'qtd_filhos', 'idade', 'tempo_emprego', 'qt_pessoas_residencia',\n",
    "    'possui_email'\n",
    "]\n",
    "# defining the dependent and independent variables\n",
    "Xtrain = df[cols]\n",
    "ytrain = df[['mau']]\n",
    "  \n",
    "# building the model and fitting the data\n",
    "log_reg = sm.Logit(ytrain, Xtrain).fit()"
   ]
  },
  {
   "cell_type": "code",
   "execution_count": 16,
   "metadata": {},
   "outputs": [
    {
     "data": {
      "text/html": [
       "<table class=\"simpletable\">\n",
       "<caption>Logit Regression Results</caption>\n",
       "<tr>\n",
       "  <th>Dep. Variable:</th>          <td>mau</td>       <th>  No. Observations:  </th>  <td> 16650</td> \n",
       "</tr>\n",
       "<tr>\n",
       "  <th>Model:</th>                 <td>Logit</td>      <th>  Df Residuals:      </th>  <td> 16645</td> \n",
       "</tr>\n",
       "<tr>\n",
       "  <th>Method:</th>                 <td>MLE</td>       <th>  Df Model:          </th>  <td>     4</td> \n",
       "</tr>\n",
       "<tr>\n",
       "  <th>Date:</th>            <td>Sun, 26 Jan 2025</td> <th>  Pseudo R-squ.:     </th> <td>-0.01189</td>\n",
       "</tr>\n",
       "<tr>\n",
       "  <th>Time:</th>                <td>19:48:04</td>     <th>  Log-Likelihood:    </th> <td> -1871.5</td>\n",
       "</tr>\n",
       "<tr>\n",
       "  <th>converged:</th>             <td>True</td>       <th>  LL-Null:           </th> <td> -1849.5</td>\n",
       "</tr>\n",
       "<tr>\n",
       "  <th>Covariance Type:</th>     <td>nonrobust</td>    <th>  LLR p-value:       </th>  <td> 1.000</td> \n",
       "</tr>\n",
       "</table>\n",
       "<table class=\"simpletable\">\n",
       "<tr>\n",
       "            <td></td>               <th>coef</th>     <th>std err</th>      <th>z</th>      <th>P>|z|</th>  <th>[0.025</th>    <th>0.975]</th>  \n",
       "</tr>\n",
       "<tr>\n",
       "  <th>qtd_filhos</th>            <td>    0.8266</td> <td>    0.131</td> <td>    6.290</td> <td> 0.000</td> <td>    0.569</td> <td>    1.084</td>\n",
       "</tr>\n",
       "<tr>\n",
       "  <th>idade</th>                 <td>   -0.0530</td> <td>    0.004</td> <td>  -14.598</td> <td> 0.000</td> <td>   -0.060</td> <td>   -0.046</td>\n",
       "</tr>\n",
       "<tr>\n",
       "  <th>tempo_emprego</th>         <td>   -0.0010</td> <td>    0.000</td> <td>   -5.846</td> <td> 0.000</td> <td>   -0.001</td> <td>   -0.001</td>\n",
       "</tr>\n",
       "<tr>\n",
       "  <th>qt_pessoas_residencia</th> <td>   -0.8893</td> <td>    0.087</td> <td>  -10.271</td> <td> 0.000</td> <td>   -1.059</td> <td>   -0.720</td>\n",
       "</tr>\n",
       "<tr>\n",
       "  <th>possui_email</th>          <td>   -0.3263</td> <td>    0.192</td> <td>   -1.696</td> <td> 0.090</td> <td>   -0.703</td> <td>    0.051</td>\n",
       "</tr>\n",
       "</table>"
      ],
      "text/latex": [
       "\\begin{center}\n",
       "\\begin{tabular}{lclc}\n",
       "\\toprule\n",
       "\\textbf{Dep. Variable:}          &       mau        & \\textbf{  No. Observations:  } &    16650    \\\\\n",
       "\\textbf{Model:}                  &      Logit       & \\textbf{  Df Residuals:      } &    16645    \\\\\n",
       "\\textbf{Method:}                 &       MLE        & \\textbf{  Df Model:          } &        4    \\\\\n",
       "\\textbf{Date:}                   & Sun, 26 Jan 2025 & \\textbf{  Pseudo R-squ.:     } &  -0.01189   \\\\\n",
       "\\textbf{Time:}                   &     19:48:04     & \\textbf{  Log-Likelihood:    } &   -1871.5   \\\\\n",
       "\\textbf{converged:}              &       True       & \\textbf{  LL-Null:           } &   -1849.5   \\\\\n",
       "\\textbf{Covariance Type:}        &    nonrobust     & \\textbf{  LLR p-value:       } &    1.000    \\\\\n",
       "\\bottomrule\n",
       "\\end{tabular}\n",
       "\\begin{tabular}{lcccccc}\n",
       "                                 & \\textbf{coef} & \\textbf{std err} & \\textbf{z} & \\textbf{P$> |$z$|$} & \\textbf{[0.025} & \\textbf{0.975]}  \\\\\n",
       "\\midrule\n",
       "\\textbf{qtd\\_filhos}             &       0.8266  &        0.131     &     6.290  &         0.000        &        0.569    &        1.084     \\\\\n",
       "\\textbf{idade}                   &      -0.0530  &        0.004     &   -14.598  &         0.000        &       -0.060    &       -0.046     \\\\\n",
       "\\textbf{tempo\\_emprego}          &      -0.0010  &        0.000     &    -5.846  &         0.000        &       -0.001    &       -0.001     \\\\\n",
       "\\textbf{qt\\_pessoas\\_residencia} &      -0.8893  &        0.087     &   -10.271  &         0.000        &       -1.059    &       -0.720     \\\\\n",
       "\\textbf{possui\\_email}           &      -0.3263  &        0.192     &    -1.696  &         0.090        &       -0.703    &        0.051     \\\\\n",
       "\\bottomrule\n",
       "\\end{tabular}\n",
       "%\\caption{Logit Regression Results}\n",
       "\\end{center}"
      ],
      "text/plain": [
       "<class 'statsmodels.iolib.summary.Summary'>\n",
       "\"\"\"\n",
       "                           Logit Regression Results                           \n",
       "==============================================================================\n",
       "Dep. Variable:                    mau   No. Observations:                16650\n",
       "Model:                          Logit   Df Residuals:                    16645\n",
       "Method:                           MLE   Df Model:                            4\n",
       "Date:                Sun, 26 Jan 2025   Pseudo R-squ.:                -0.01189\n",
       "Time:                        19:48:04   Log-Likelihood:                -1871.5\n",
       "converged:                       True   LL-Null:                       -1849.5\n",
       "Covariance Type:            nonrobust   LLR p-value:                     1.000\n",
       "=========================================================================================\n",
       "                            coef    std err          z      P>|z|      [0.025      0.975]\n",
       "-----------------------------------------------------------------------------------------\n",
       "qtd_filhos                0.8266      0.131      6.290      0.000       0.569       1.084\n",
       "idade                    -0.0530      0.004    -14.598      0.000      -0.060      -0.046\n",
       "tempo_emprego            -0.0010      0.000     -5.846      0.000      -0.001      -0.001\n",
       "qt_pessoas_residencia    -0.8893      0.087    -10.271      0.000      -1.059      -0.720\n",
       "possui_email             -0.3263      0.192     -1.696      0.090      -0.703       0.051\n",
       "=========================================================================================\n",
       "\"\"\""
      ]
     },
     "execution_count": 16,
     "metadata": {},
     "output_type": "execute_result"
    }
   ],
   "source": [
    "log_reg.summary()"
   ]
  },
  {
   "cell_type": "code",
   "execution_count": 17,
   "metadata": {},
   "outputs": [
    {
     "data": {
      "text/plain": [
       "qtd_filhos               0.826553\n",
       "idade                   -0.052973\n",
       "tempo_emprego           -0.000953\n",
       "qt_pessoas_residencia   -0.889271\n",
       "possui_email            -0.326308\n",
       "dtype: float64"
      ]
     },
     "execution_count": 17,
     "metadata": {},
     "output_type": "execute_result"
    }
   ],
   "source": [
    "log_reg.params"
   ]
  },
  {
   "cell_type": "code",
   "execution_count": 18,
   "metadata": {},
   "outputs": [
    {
     "data": {
      "text/html": [
       "<div>\n",
       "<style scoped>\n",
       "    .dataframe tbody tr th:only-of-type {\n",
       "        vertical-align: middle;\n",
       "    }\n",
       "\n",
       "    .dataframe tbody tr th {\n",
       "        vertical-align: top;\n",
       "    }\n",
       "\n",
       "    .dataframe thead th {\n",
       "        text-align: right;\n",
       "    }\n",
       "</style>\n",
       "<table border=\"1\" class=\"dataframe\">\n",
       "  <thead>\n",
       "    <tr style=\"text-align: right;\">\n",
       "      <th></th>\n",
       "      <th>0</th>\n",
       "    </tr>\n",
       "  </thead>\n",
       "  <tbody>\n",
       "    <tr>\n",
       "      <th>qtd_filhos</th>\n",
       "      <td>0.826553</td>\n",
       "    </tr>\n",
       "    <tr>\n",
       "      <th>idade</th>\n",
       "      <td>-0.052973</td>\n",
       "    </tr>\n",
       "    <tr>\n",
       "      <th>tempo_emprego</th>\n",
       "      <td>-0.000953</td>\n",
       "    </tr>\n",
       "    <tr>\n",
       "      <th>qt_pessoas_residencia</th>\n",
       "      <td>-0.889271</td>\n",
       "    </tr>\n",
       "    <tr>\n",
       "      <th>possui_email</th>\n",
       "      <td>-0.326308</td>\n",
       "    </tr>\n",
       "  </tbody>\n",
       "</table>\n",
       "</div>"
      ],
      "text/plain": [
       "                              0\n",
       "qtd_filhos             0.826553\n",
       "idade                 -0.052973\n",
       "tempo_emprego         -0.000953\n",
       "qt_pessoas_residencia -0.889271\n",
       "possui_email          -0.326308"
      ]
     },
     "execution_count": 18,
     "metadata": {},
     "output_type": "execute_result"
    }
   ],
   "source": [
    "log_reg.params.to_frame()"
   ]
  },
  {
   "cell_type": "code",
   "execution_count": 19,
   "metadata": {},
   "outputs": [
    {
     "data": {
      "text/html": [
       "<style type=\"text/css\">\n",
       "#T_0431c_row0_col1 {\n",
       "  width: 10em;\n",
       "  background: linear-gradient(90deg, transparent 50.0%, lightblue 50.0%, lightblue 96.6%, transparent 96.6%);\n",
       "}\n",
       "#T_0431c_row1_col1 {\n",
       "  width: 10em;\n",
       "}\n",
       "#T_0431c_row2_col1 {\n",
       "  width: 10em;\n",
       "  background: linear-gradient(90deg, transparent 47.2%, grey 47.2%, grey 50.0%, transparent 50.0%);\n",
       "}\n",
       "#T_0431c_row3_col1 {\n",
       "  width: 10em;\n",
       "  background: linear-gradient(90deg, transparent 31.5%, grey 31.5%, grey 50.0%, transparent 50.0%);\n",
       "}\n",
       "#T_0431c_row4_col1 {\n",
       "  width: 10em;\n",
       "  background: linear-gradient(90deg, grey 50.0%, transparent 50.0%);\n",
       "}\n",
       "</style>\n",
       "<table id=\"T_0431c\">\n",
       "  <thead>\n",
       "    <tr>\n",
       "      <th class=\"blank level0\" >&nbsp;</th>\n",
       "      <th id=\"T_0431c_level0_col0\" class=\"col_heading level0 col0\" >variavel</th>\n",
       "      <th id=\"T_0431c_level0_col1\" class=\"col_heading level0 col1\" >coef</th>\n",
       "    </tr>\n",
       "  </thead>\n",
       "  <tbody>\n",
       "    <tr>\n",
       "      <th id=\"T_0431c_level0_row0\" class=\"row_heading level0 row0\" >0</th>\n",
       "      <td id=\"T_0431c_row0_col0\" class=\"data row0 col0\" >qtd_filhos</td>\n",
       "      <td id=\"T_0431c_row0_col1\" class=\"data row0 col1\" >0.830000</td>\n",
       "    </tr>\n",
       "    <tr>\n",
       "      <th id=\"T_0431c_level0_row1\" class=\"row_heading level0 row1\" >2</th>\n",
       "      <td id=\"T_0431c_row1_col0\" class=\"data row1 col0\" >tempo_emprego</td>\n",
       "      <td id=\"T_0431c_row1_col1\" class=\"data row1 col1\" >-0.000000</td>\n",
       "    </tr>\n",
       "    <tr>\n",
       "      <th id=\"T_0431c_level0_row2\" class=\"row_heading level0 row2\" >1</th>\n",
       "      <td id=\"T_0431c_row2_col0\" class=\"data row2 col0\" >idade</td>\n",
       "      <td id=\"T_0431c_row2_col1\" class=\"data row2 col1\" >-0.050000</td>\n",
       "    </tr>\n",
       "    <tr>\n",
       "      <th id=\"T_0431c_level0_row3\" class=\"row_heading level0 row3\" >4</th>\n",
       "      <td id=\"T_0431c_row3_col0\" class=\"data row3 col0\" >possui_email</td>\n",
       "      <td id=\"T_0431c_row3_col1\" class=\"data row3 col1\" >-0.330000</td>\n",
       "    </tr>\n",
       "    <tr>\n",
       "      <th id=\"T_0431c_level0_row4\" class=\"row_heading level0 row4\" >3</th>\n",
       "      <td id=\"T_0431c_row4_col0\" class=\"data row4 col0\" >qt_pessoas_residencia</td>\n",
       "      <td id=\"T_0431c_row4_col1\" class=\"data row4 col1\" >-0.890000</td>\n",
       "    </tr>\n",
       "  </tbody>\n",
       "</table>\n"
      ],
      "text/plain": [
       "<pandas.io.formats.style.Styler at 0x1b6732e40e0>"
      ]
     },
     "execution_count": 19,
     "metadata": {},
     "output_type": "execute_result"
    }
   ],
   "source": [
    "(log_reg.params.to_frame()\n",
    "    .reset_index()\n",
    "    .rename(columns={'index':'variavel',0:'coef'})\n",
    "    .round(decimals=2) \n",
    "    .sort_values('coef', ascending=False) \n",
    "    .style.bar(color=['grey', 'lightblue'], align='zero'))"
   ]
  },
  {
   "cell_type": "code",
   "execution_count": 20,
   "metadata": {},
   "outputs": [
    {
     "name": "stdout",
     "output_type": "stream",
     "text": [
      "Feature importances:  [0.02082776 0.54979816 0.37202512 0.0276817  0.00771552 0.01116289\n",
      " 0.01078885]\n",
      "Variáveis:  ['qtd_filhos', 'idade', 'tempo_emprego', 'qt_pessoas_residencia', 'possui_email', 'possui_fone', 'possui_fone_comercial']\n"
     ]
    }
   ],
   "source": [
    "rf = RandomForestClassifier()\n",
    "cols = [\n",
    "    'qtd_filhos', 'idade', 'tempo_emprego', 'qt_pessoas_residencia',\n",
    "    'possui_email', 'possui_fone', 'possui_fone_comercial'\n",
    "]\n",
    "rf.fit(df[cols], df['mau'])\n",
    "\n",
    "print('Feature importances: ',rf.feature_importances_)\n",
    "print('Variáveis: ',cols)"
   ]
  },
  {
   "cell_type": "code",
   "execution_count": 21,
   "metadata": {},
   "outputs": [
    {
     "data": {
      "text/html": [
       "<style type=\"text/css\">\n",
       "#T_05e6a_row0_col1 {\n",
       "  width: 10em;\n",
       "  background: linear-gradient(90deg, transparent 50.0%, grey 50.0%, grey 100.0%, transparent 100.0%);\n",
       "}\n",
       "#T_05e6a_row1_col1 {\n",
       "  width: 10em;\n",
       "  background: linear-gradient(90deg, transparent 50.0%, grey 50.0%, grey 83.6%, transparent 83.6%);\n",
       "}\n",
       "#T_05e6a_row2_col1 {\n",
       "  width: 10em;\n",
       "  background: linear-gradient(90deg, transparent 50.0%, grey 50.0%, grey 52.7%, transparent 52.7%);\n",
       "}\n",
       "#T_05e6a_row3_col1 {\n",
       "  width: 10em;\n",
       "  background: linear-gradient(90deg, transparent 50.0%, grey 50.0%, grey 51.8%, transparent 51.8%);\n",
       "}\n",
       "#T_05e6a_row4_col1, #T_05e6a_row5_col1, #T_05e6a_row6_col1 {\n",
       "  width: 10em;\n",
       "  background: linear-gradient(90deg, transparent 50.0%, grey 50.0%, grey 50.9%, transparent 50.9%);\n",
       "}\n",
       "</style>\n",
       "<table id=\"T_05e6a\">\n",
       "  <thead>\n",
       "    <tr>\n",
       "      <th class=\"blank level0\" >&nbsp;</th>\n",
       "      <th id=\"T_05e6a_level0_col0\" class=\"col_heading level0 col0\" >variavel</th>\n",
       "      <th id=\"T_05e6a_level0_col1\" class=\"col_heading level0 col1\" >featimp</th>\n",
       "    </tr>\n",
       "  </thead>\n",
       "  <tbody>\n",
       "    <tr>\n",
       "      <th id=\"T_05e6a_level0_row0\" class=\"row_heading level0 row0\" >1</th>\n",
       "      <td id=\"T_05e6a_row0_col0\" class=\"data row0 col0\" >idade</td>\n",
       "      <td id=\"T_05e6a_row0_col1\" class=\"data row0 col1\" >0.550000</td>\n",
       "    </tr>\n",
       "    <tr>\n",
       "      <th id=\"T_05e6a_level0_row1\" class=\"row_heading level0 row1\" >2</th>\n",
       "      <td id=\"T_05e6a_row1_col0\" class=\"data row1 col0\" >tempo_emprego</td>\n",
       "      <td id=\"T_05e6a_row1_col1\" class=\"data row1 col1\" >0.370000</td>\n",
       "    </tr>\n",
       "    <tr>\n",
       "      <th id=\"T_05e6a_level0_row2\" class=\"row_heading level0 row2\" >3</th>\n",
       "      <td id=\"T_05e6a_row2_col0\" class=\"data row2 col0\" >qt_pessoas_residencia</td>\n",
       "      <td id=\"T_05e6a_row2_col1\" class=\"data row2 col1\" >0.030000</td>\n",
       "    </tr>\n",
       "    <tr>\n",
       "      <th id=\"T_05e6a_level0_row3\" class=\"row_heading level0 row3\" >0</th>\n",
       "      <td id=\"T_05e6a_row3_col0\" class=\"data row3 col0\" >qtd_filhos</td>\n",
       "      <td id=\"T_05e6a_row3_col1\" class=\"data row3 col1\" >0.020000</td>\n",
       "    </tr>\n",
       "    <tr>\n",
       "      <th id=\"T_05e6a_level0_row4\" class=\"row_heading level0 row4\" >4</th>\n",
       "      <td id=\"T_05e6a_row4_col0\" class=\"data row4 col0\" >possui_email</td>\n",
       "      <td id=\"T_05e6a_row4_col1\" class=\"data row4 col1\" >0.010000</td>\n",
       "    </tr>\n",
       "    <tr>\n",
       "      <th id=\"T_05e6a_level0_row5\" class=\"row_heading level0 row5\" >5</th>\n",
       "      <td id=\"T_05e6a_row5_col0\" class=\"data row5 col0\" >possui_fone</td>\n",
       "      <td id=\"T_05e6a_row5_col1\" class=\"data row5 col1\" >0.010000</td>\n",
       "    </tr>\n",
       "    <tr>\n",
       "      <th id=\"T_05e6a_level0_row6\" class=\"row_heading level0 row6\" >6</th>\n",
       "      <td id=\"T_05e6a_row6_col0\" class=\"data row6 col0\" >possui_fone_comercial</td>\n",
       "      <td id=\"T_05e6a_row6_col1\" class=\"data row6 col1\" >0.010000</td>\n",
       "    </tr>\n",
       "  </tbody>\n",
       "</table>\n"
      ],
      "text/plain": [
       "<pandas.io.formats.style.Styler at 0x1b67877e930>"
      ]
     },
     "execution_count": 21,
     "metadata": {},
     "output_type": "execute_result"
    }
   ],
   "source": [
    "(pd.DataFrame({\n",
    "            'variavel': cols,\n",
    "            'featimp': rf.feature_importances_}) \n",
    "    .round(decimals=2) \n",
    "    .sort_values('featimp', ascending=False) \n",
    "    .style.bar(color=['lightblue', 'grey'], align='zero'))"
   ]
  },
  {
   "cell_type": "code",
   "execution_count": null,
   "metadata": {},
   "outputs": [],
   "source": []
  }
 ],
 "metadata": {
  "kernelspec": {
   "display_name": "EBAC",
   "language": "python",
   "name": "python3"
  },
  "language_info": {
   "codemirror_mode": {
    "name": "ipython",
    "version": 3
   },
   "file_extension": ".py",
   "mimetype": "text/x-python",
   "name": "python",
   "nbconvert_exporter": "python",
   "pygments_lexer": "ipython3",
   "version": "3.12.7"
  },
  "varInspector": {
   "cols": {
    "lenName": 16,
    "lenType": 16,
    "lenVar": 40
   },
   "kernels_config": {
    "python": {
     "delete_cmd_postfix": "",
     "delete_cmd_prefix": "del ",
     "library": "var_list.py",
     "varRefreshCmd": "print(var_dic_list())"
    },
    "r": {
     "delete_cmd_postfix": ") ",
     "delete_cmd_prefix": "rm(",
     "library": "var_list.r",
     "varRefreshCmd": "cat(var_dic_list()) "
    }
   },
   "types_to_exclude": [
    "module",
    "function",
    "builtin_function_or_method",
    "instance",
    "_Feature"
   ],
   "window_display": false
  }
 },
 "nbformat": 4,
 "nbformat_minor": 4
}
